{
 "cells": [
  {
   "cell_type": "code",
   "execution_count": 15,
   "metadata": {
    "Collapsed": "false"
   },
   "outputs": [],
   "source": [
    "import numpy as np\n",
    "import os\n",
    "import matplotlib.cm as cm\n",
    "from scipy.special import expit as invlogit\n",
    "from sklearn.metrics import roc_auc_score\n",
    "from sklearn.linear_model import LinearRegression\n",
    "import scipy.stats as st\n",
    "from scipy.stats import norm\n",
    "import pandas as pd\n",
    "import pymc3 as pm\n",
    "import arviz as az\n",
    "import matplotlib.pyplot as plt\n",
    "import theano.tensor as tt\n",
    "import seaborn as sns\n",
    "%matplotlib inline\n",
    "sns.set_style('whitegrid')\n",
    "plt.rcParams[\"figure.figsize\"] = (6,3)"
   ]
  },
  {
   "cell_type": "markdown",
   "metadata": {
    "Collapsed": "false"
   },
   "source": [
    "# Bayesian approach to testosterone effects estimation in risk-taking task\n",
    "Estimation effects of testosterone application on decision making process (see. Effects of Testosterone Application on Loss Aversion and Risk Taking under Different Framing)\n",
    "\n",
    "toDo: add task design (workflow) and short description"
   ]
  },
  {
   "cell_type": "markdown",
   "metadata": {
    "Collapsed": "false"
   },
   "source": [
    "## Cumulative prospect theory\n",
    "\n",
    "According  to prospect theory  (Fox, C. R. & Poldrack, R. A. Prospect Theory 149 Applications to Riskless Choice 151)  choice between two gambles is based on subjective value that represents  its desirability to decision maker. The value $V$ for simple prospect  that payoff $x$  with probability $p$  is given by  $V(x,p)=\\omega(x)v(x)$ ,  where $w(x)$ measures impact effect of probability and $v(x)$ is subjective value of money.  The subjective value of payoff is  defined as power function from payoff \n",
    "\n",
    "$$V(A) = \\sum v(x_i)*\\omega(p_i)$$\n",
    "\n",
    "where $V(A)$ - value function, $\\omega(p_i)$ - decision weights for for gains and losses\n",
    "\n",
    "\n",
    "$$ v(x_i) = \\begin{cases} \n",
    "    \tx^{\\alpha}, \n",
    "    \t& \\text{if}\\, (x)>0 \\\\\n",
    "    \t-\\lambda (-x)^{\\beta}, & \\text{else}\n",
    "    \\end{cases}$$\n",
    "$$ \\omega(p) = \\frac{p^{c_{ind}}}{[p^{c_{ind}} + (1-p)^{c_{ind}}]^{1/{c_{ind}}}} $$\n",
    "where $ind = +,\\text{ for gain }, - \\text{ loss }$\n",
    "\n",
    "With accordance to prospect theory the decision maker should always choose an option with a larger subjective value. A 0 to 1 choice probability is usually described by exponential transform, which leads to logistic function choice function:\n",
    "\n",
    "$$p(A,B)  = \\frac{1}{1+e^{\\phi(V(B)-V(A))}}$$\n",
    "A - Game, B - sure, in our case\n",
    "\n",
    "Later we will call difference $V(B)-V(A)$ as **Gap**\n",
    "\n",
    "\n",
    "\n",
    "**Testosterone related parameters**\n",
    "\n",
    "\n",
    "Testing how testosterone influences on decision making process\n",
    "$$\\theta = logit(p_i)  = (a_j+a_{cond}) + (\\beta_j+\\beta_{cond})*gap(A,B,\\alpha,c)$$"
   ]
  },
  {
   "cell_type": "markdown",
   "metadata": {
    "Collapsed": "false"
   },
   "source": [
    "## Data processing step\n",
    "\n",
    "\n",
    "toDo: add data description here\n",
    "\n",
    "Basic preprocessing steps"
   ]
  },
  {
   "cell_type": "markdown",
   "metadata": {
    "Collapsed": "false"
   },
   "source": [
    "### Data from risk-taking task"
   ]
  },
  {
   "cell_type": "code",
   "execution_count": 16,
   "metadata": {
    "Collapsed": "false"
   },
   "outputs": [
    {
     "name": "stdout",
     "output_type": "stream",
     "text": [
      "Number of inds: 40\n"
     ]
    },
    {
     "data": {
      "text/html": [
       "<div>\n",
       "<style scoped>\n",
       "    .dataframe tbody tr th:only-of-type {\n",
       "        vertical-align: middle;\n",
       "    }\n",
       "\n",
       "    .dataframe tbody tr th {\n",
       "        vertical-align: top;\n",
       "    }\n",
       "\n",
       "    .dataframe thead th {\n",
       "        text-align: right;\n",
       "    }\n",
       "</style>\n",
       "<table border=\"1\" class=\"dataframe\">\n",
       "  <thead>\n",
       "    <tr style=\"text-align: right;\">\n",
       "      <th></th>\n",
       "      <th>ID</th>\n",
       "      <th>Strategy</th>\n",
       "      <th>Test</th>\n",
       "      <th>Win</th>\n",
       "      <th>P</th>\n",
       "      <th>A</th>\n",
       "      <th>B</th>\n",
       "      <th>Inds</th>\n",
       "      <th>GameId</th>\n",
       "      <th>TypeCode</th>\n",
       "    </tr>\n",
       "  </thead>\n",
       "  <tbody>\n",
       "    <tr>\n",
       "      <th>0</th>\n",
       "      <td>PK01</td>\n",
       "      <td>1</td>\n",
       "      <td>1</td>\n",
       "      <td>1</td>\n",
       "      <td>0.9</td>\n",
       "      <td>2000</td>\n",
       "      <td>1500</td>\n",
       "      <td>24</td>\n",
       "      <td>19</td>\n",
       "      <td>1</td>\n",
       "    </tr>\n",
       "    <tr>\n",
       "      <th>1</th>\n",
       "      <td>PK02</td>\n",
       "      <td>1</td>\n",
       "      <td>1</td>\n",
       "      <td>1</td>\n",
       "      <td>0.9</td>\n",
       "      <td>2000</td>\n",
       "      <td>1500</td>\n",
       "      <td>25</td>\n",
       "      <td>19</td>\n",
       "      <td>1</td>\n",
       "    </tr>\n",
       "    <tr>\n",
       "      <th>2</th>\n",
       "      <td>PK03</td>\n",
       "      <td>1</td>\n",
       "      <td>1</td>\n",
       "      <td>1</td>\n",
       "      <td>0.9</td>\n",
       "      <td>2000</td>\n",
       "      <td>1500</td>\n",
       "      <td>26</td>\n",
       "      <td>19</td>\n",
       "      <td>1</td>\n",
       "    </tr>\n",
       "    <tr>\n",
       "      <th>3</th>\n",
       "      <td>PK04</td>\n",
       "      <td>1</td>\n",
       "      <td>1</td>\n",
       "      <td>1</td>\n",
       "      <td>0.9</td>\n",
       "      <td>2000</td>\n",
       "      <td>1500</td>\n",
       "      <td>27</td>\n",
       "      <td>19</td>\n",
       "      <td>1</td>\n",
       "    </tr>\n",
       "    <tr>\n",
       "      <th>4</th>\n",
       "      <td>PK05</td>\n",
       "      <td>0</td>\n",
       "      <td>1</td>\n",
       "      <td>1</td>\n",
       "      <td>0.9</td>\n",
       "      <td>2000</td>\n",
       "      <td>1500</td>\n",
       "      <td>28</td>\n",
       "      <td>19</td>\n",
       "      <td>1</td>\n",
       "    </tr>\n",
       "  </tbody>\n",
       "</table>\n",
       "</div>"
      ],
      "text/plain": [
       "     ID  Strategy  Test  Win    P     A     B  Inds  GameId  TypeCode\n",
       "0  PK01         1     1    1  0.9  2000  1500    24      19         1\n",
       "1  PK02         1     1    1  0.9  2000  1500    25      19         1\n",
       "2  PK03         1     1    1  0.9  2000  1500    26      19         1\n",
       "3  PK04         1     1    1  0.9  2000  1500    27      19         1\n",
       "4  PK05         0     1    1  0.9  2000  1500    28      19         1"
      ]
     },
     "execution_count": 16,
     "metadata": {},
     "output_type": "execute_result"
    }
   ],
   "source": [
    "df = pd.read_csv('Framing.csv',sep = ';')\n",
    "m_df = pd.melt(df, id_vars='ID', value_vars=list(df.columns[1:]), value_name='Strategy')\n",
    "m_df['Test'] = 1\n",
    "m_df.loc[m_df['variable'].str.contains('P'),'Test'] = 0\n",
    "m_df['Win'] = 1\n",
    "m_df.loc[m_df['variable'].str.contains('_L'),'Win'] = 0\n",
    "m_df['P'] = m_df.apply(lambda row: float(row.variable[-3:]), axis=1)\n",
    "m_df.drop(\"variable\", axis=1, inplace = True)\n",
    "m_df.Strategy = m_df.Strategy - 1\n",
    "win_money = {0.9: {'A': 2000, 'B': 1500}, 0.7: {'A': 500, 'B': 250}, 0.5: {'A': 1000, 'B': 500}, \n",
    "             0.3: {'A': 1500, 'B': 500}, 0.1: {'A': 250, 'B': 50}}\n",
    "loss_money = {0.9: {'A': 2400, 'B': 1200}, 0.7: {'A': 600, 'B': 200}, 0.5: {'A': 1000, 'B': 500}, \n",
    "             0.3: {'A': 1800, 'B': 600}, 0.1: {'A': 1200, 'B': 400}}\n",
    "\n",
    "m_df['A'] = 0\n",
    "m_df['B'] = 1\n",
    "m_df.loc[m_df['Win']== 1,'A'] = m_df.loc[m_df['Win']== 1].apply(lambda row: win_money[row.P]['A'], axis=1)\n",
    "m_df.loc[m_df['Win']== 1,'B'] = m_df.loc[m_df['Win']== 1].apply(lambda row: win_money[row.P]['B'], axis=1)\n",
    "m_df.loc[m_df['Win']== 0,'A'] = m_df.loc[m_df['Win']== 0].apply(lambda row: loss_money[row.P]['A'], axis=1)\n",
    "m_df.loc[m_df['Win']== 0,'B'] = m_df.loc[m_df['Win']== 0].apply(lambda row: loss_money[row.P]['B'], axis=1)\n",
    "\n",
    "m_df[\"Inds\"] = pd.Categorical(m_df['ID']).codes\n",
    "print(f'Number of inds: {len(pd.unique(m_df.Inds))}')\n",
    "m_df.loc[m_df['Win']== 0,['A','B']] = -1*m_df.loc[m_df['Win']== 0,['A','B']]\n",
    "m_df['GameId'] = 0    \n",
    "grouped = m_df.groupby(['Win','P','Test'])\n",
    "key_list = list(grouped.groups.keys())\n",
    "for i,key in zip(range(len(key_list)),key_list):\n",
    "    m_df.loc[grouped.groups[key_list[i]], 'GameId']  = i\n",
    "    \n",
    "m_df['TypeCode'] = 0\n",
    "hormones = [0, 1, 0, 1]\n",
    "win =  [1, 1, 0, 0]\n",
    "codes = [0,1,2,3]\n",
    "for c,h,w in zip(codes,hormones, win):\n",
    "    m_df.loc[(m_df['Test']== h)&(m_df['Win']== w),'TypeCode']= c   \n",
    "m_df.head()"
   ]
  },
  {
   "cell_type": "markdown",
   "metadata": {
    "Collapsed": "false"
   },
   "source": [
    "### Hormone data"
   ]
  },
  {
   "cell_type": "code",
   "execution_count": 17,
   "metadata": {
    "Collapsed": "false"
   },
   "outputs": [
    {
     "data": {
      "text/html": [
       "<div>\n",
       "<style scoped>\n",
       "    .dataframe tbody tr th:only-of-type {\n",
       "        vertical-align: middle;\n",
       "    }\n",
       "\n",
       "    .dataframe tbody tr th {\n",
       "        vertical-align: top;\n",
       "    }\n",
       "\n",
       "    .dataframe thead th {\n",
       "        text-align: right;\n",
       "    }\n",
       "</style>\n",
       "<table border=\"1\" class=\"dataframe\">\n",
       "  <thead>\n",
       "    <tr style=\"text-align: right;\">\n",
       "      <th></th>\n",
       "      <th>ID</th>\n",
       "      <th>Strategy</th>\n",
       "      <th>Test</th>\n",
       "      <th>Win</th>\n",
       "      <th>P</th>\n",
       "      <th>A</th>\n",
       "      <th>B</th>\n",
       "      <th>Inds</th>\n",
       "      <th>GameId</th>\n",
       "      <th>TypeCode</th>\n",
       "      <th>TPl_change</th>\n",
       "    </tr>\n",
       "  </thead>\n",
       "  <tbody>\n",
       "    <tr>\n",
       "      <th>0</th>\n",
       "      <td>PK01</td>\n",
       "      <td>1</td>\n",
       "      <td>1</td>\n",
       "      <td>1</td>\n",
       "      <td>0.9</td>\n",
       "      <td>2000</td>\n",
       "      <td>1500</td>\n",
       "      <td>24</td>\n",
       "      <td>19</td>\n",
       "      <td>1</td>\n",
       "      <td>0.764706</td>\n",
       "    </tr>\n",
       "    <tr>\n",
       "      <th>1</th>\n",
       "      <td>PK02</td>\n",
       "      <td>1</td>\n",
       "      <td>1</td>\n",
       "      <td>1</td>\n",
       "      <td>0.9</td>\n",
       "      <td>2000</td>\n",
       "      <td>1500</td>\n",
       "      <td>25</td>\n",
       "      <td>19</td>\n",
       "      <td>1</td>\n",
       "      <td>1.271429</td>\n",
       "    </tr>\n",
       "    <tr>\n",
       "      <th>2</th>\n",
       "      <td>PK03</td>\n",
       "      <td>1</td>\n",
       "      <td>1</td>\n",
       "      <td>1</td>\n",
       "      <td>0.9</td>\n",
       "      <td>2000</td>\n",
       "      <td>1500</td>\n",
       "      <td>26</td>\n",
       "      <td>19</td>\n",
       "      <td>1</td>\n",
       "      <td>0.872000</td>\n",
       "    </tr>\n",
       "    <tr>\n",
       "      <th>3</th>\n",
       "      <td>PK04</td>\n",
       "      <td>1</td>\n",
       "      <td>1</td>\n",
       "      <td>1</td>\n",
       "      <td>0.9</td>\n",
       "      <td>2000</td>\n",
       "      <td>1500</td>\n",
       "      <td>27</td>\n",
       "      <td>19</td>\n",
       "      <td>1</td>\n",
       "      <td>1.929293</td>\n",
       "    </tr>\n",
       "    <tr>\n",
       "      <th>4</th>\n",
       "      <td>PK05</td>\n",
       "      <td>0</td>\n",
       "      <td>1</td>\n",
       "      <td>1</td>\n",
       "      <td>0.9</td>\n",
       "      <td>2000</td>\n",
       "      <td>1500</td>\n",
       "      <td>28</td>\n",
       "      <td>19</td>\n",
       "      <td>1</td>\n",
       "      <td>1.634146</td>\n",
       "    </tr>\n",
       "    <tr>\n",
       "      <th>...</th>\n",
       "      <td>...</td>\n",
       "      <td>...</td>\n",
       "      <td>...</td>\n",
       "      <td>...</td>\n",
       "      <td>...</td>\n",
       "      <td>...</td>\n",
       "      <td>...</td>\n",
       "      <td>...</td>\n",
       "      <td>...</td>\n",
       "      <td>...</td>\n",
       "      <td>...</td>\n",
       "    </tr>\n",
       "    <tr>\n",
       "      <th>795</th>\n",
       "      <td>MR21</td>\n",
       "      <td>1</td>\n",
       "      <td>0</td>\n",
       "      <td>0</td>\n",
       "      <td>0.1</td>\n",
       "      <td>-1200</td>\n",
       "      <td>-400</td>\n",
       "      <td>19</td>\n",
       "      <td>0</td>\n",
       "      <td>2</td>\n",
       "      <td>0.000000</td>\n",
       "    </tr>\n",
       "    <tr>\n",
       "      <th>796</th>\n",
       "      <td>MR23</td>\n",
       "      <td>1</td>\n",
       "      <td>0</td>\n",
       "      <td>0</td>\n",
       "      <td>0.1</td>\n",
       "      <td>-1200</td>\n",
       "      <td>-400</td>\n",
       "      <td>20</td>\n",
       "      <td>0</td>\n",
       "      <td>2</td>\n",
       "      <td>0.000000</td>\n",
       "    </tr>\n",
       "    <tr>\n",
       "      <th>797</th>\n",
       "      <td>MR24</td>\n",
       "      <td>0</td>\n",
       "      <td>0</td>\n",
       "      <td>0</td>\n",
       "      <td>0.1</td>\n",
       "      <td>-1200</td>\n",
       "      <td>-400</td>\n",
       "      <td>21</td>\n",
       "      <td>0</td>\n",
       "      <td>2</td>\n",
       "      <td>0.000000</td>\n",
       "    </tr>\n",
       "    <tr>\n",
       "      <th>798</th>\n",
       "      <td>MR25</td>\n",
       "      <td>1</td>\n",
       "      <td>0</td>\n",
       "      <td>0</td>\n",
       "      <td>0.1</td>\n",
       "      <td>-1200</td>\n",
       "      <td>-400</td>\n",
       "      <td>22</td>\n",
       "      <td>0</td>\n",
       "      <td>2</td>\n",
       "      <td>0.000000</td>\n",
       "    </tr>\n",
       "    <tr>\n",
       "      <th>799</th>\n",
       "      <td>MR26</td>\n",
       "      <td>0</td>\n",
       "      <td>0</td>\n",
       "      <td>0</td>\n",
       "      <td>0.1</td>\n",
       "      <td>-1200</td>\n",
       "      <td>-400</td>\n",
       "      <td>23</td>\n",
       "      <td>0</td>\n",
       "      <td>2</td>\n",
       "      <td>0.000000</td>\n",
       "    </tr>\n",
       "  </tbody>\n",
       "</table>\n",
       "<p>800 rows × 11 columns</p>\n",
       "</div>"
      ],
      "text/plain": [
       "       ID  Strategy  Test  Win    P     A     B  Inds  GameId  TypeCode  \\\n",
       "0    PK01         1     1    1  0.9  2000  1500    24      19         1   \n",
       "1    PK02         1     1    1  0.9  2000  1500    25      19         1   \n",
       "2    PK03         1     1    1  0.9  2000  1500    26      19         1   \n",
       "3    PK04         1     1    1  0.9  2000  1500    27      19         1   \n",
       "4    PK05         0     1    1  0.9  2000  1500    28      19         1   \n",
       "..    ...       ...   ...  ...  ...   ...   ...   ...     ...       ...   \n",
       "795  MR21         1     0    0  0.1 -1200  -400    19       0         2   \n",
       "796  MR23         1     0    0  0.1 -1200  -400    20       0         2   \n",
       "797  MR24         0     0    0  0.1 -1200  -400    21       0         2   \n",
       "798  MR25         1     0    0  0.1 -1200  -400    22       0         2   \n",
       "799  MR26         0     0    0  0.1 -1200  -400    23       0         2   \n",
       "\n",
       "     TPl_change  \n",
       "0      0.764706  \n",
       "1      1.271429  \n",
       "2      0.872000  \n",
       "3      1.929293  \n",
       "4      1.634146  \n",
       "..          ...  \n",
       "795    0.000000  \n",
       "796    0.000000  \n",
       "797    0.000000  \n",
       "798    0.000000  \n",
       "799    0.000000  \n",
       "\n",
       "[800 rows x 11 columns]"
      ]
     },
     "execution_count": 17,
     "metadata": {},
     "output_type": "execute_result"
    }
   ],
   "source": [
    "df = pd.read_csv('horm_sort.csv', usecols = [0,1,2,3])\n",
    "df[['Testosterone']]= df[['Testosterone']].apply(pd.to_numeric, errors='coerce')\n",
    "df.rename(columns={\"Subjects\": \"ID\"}, inplace = True)\n",
    "h_df = df.groupby(['Time','Type','ID'])['Testosterone'].min().unstack().T\n",
    "h_df.columns = ['Pl_T0','T_T0','Pl_T1','T_T1']\n",
    "h_df.loc['MR24','Pl_T0'] = h_df.loc['MR24','Pl_T1'] \n",
    "h_df.loc['MR25','T_T1'] = h_df[h_df['Pl_T0'].between(18, 25)]['T_T1'].mean()\n",
    "h_df['Pl_change'] = (h_df['Pl_T1']-h_df['Pl_T0'])/h_df['Pl_T0']\n",
    "h_df['T_change'] = (h_df['T_T1']-h_df['T_T0'])/h_df['T_T0']\n",
    "h_df['TPl_change'] = (h_df['T_T1']-h_df['Pl_T1'])/h_df['Pl_T1']\n",
    "TPl_change = h_df.TPl_change\n",
    "TPl_change['MR23'] = TPl_change.mean()\n",
    "#TPl_change\n",
    "m_df = m_df.join(TPl_change, on = ['ID'])\n",
    "m_df.loc[m_df.Test==0, 'TPl_change'] = 0\n",
    "m_df"
   ]
  },
  {
   "cell_type": "markdown",
   "metadata": {
    "Collapsed": "false"
   },
   "source": [
    "### Testosterone level \n",
    "We used two approach for analysis testosterone effect\n",
    " - presence of Testosterone (indicator: 0 or 1) \n",
    " - percentage change in testosterone level at the game moment for each participant (T_level - PL_level)/T_level"
   ]
  },
  {
   "cell_type": "code",
   "execution_count": 18,
   "metadata": {
    "Collapsed": "false"
   },
   "outputs": [
    {
     "data": {
      "image/png": "[encoded data removed]",
      "text/plain": [
       "<Figure size 432x216 with 1 Axes>"
      ]
     },
     "metadata": {},
     "output_type": "display_data"
    }
   ],
   "source": [
    "plt.hist(100*m_df[m_df['Test']==1].TPl_change, density=True); plt.title('Distribution of percentage change in testosterone');\n",
    "plt.xlabel('% change');"
   ]
  },
  {
   "cell_type": "markdown",
   "metadata": {
    "Collapsed": "false"
   },
   "source": [
    "## Utility function for gap estimation\n",
    "From cpt theory: theano version for pyMC3 estimation\n"
   ]
  },
  {
   "cell_type": "code",
   "execution_count": 19,
   "metadata": {
    "Collapsed": "false"
   },
   "outputs": [],
   "source": [
    "def value_f(x, alpha):\n",
    "    \"\"\"\n",
    "    the power value function suggested by Tversky and Kahneman (1992)\n",
    "    @param x: float, positive, money\n",
    "    @param alpha: float, expected to be less then 1     \n",
    "    \"\"\"\n",
    "    #val = tt.switch(tt.lt(x, 0),-tt.pow(-x, alpha),tt.pow(x, alpha))\n",
    "    val  = tt.sgn(x)*tt.pow(tt.abs_(x),alpha)\n",
    "    return val\n",
    "\n",
    "\n",
    "def weights(p,c):\n",
    "    \"\"\"\n",
    "    one-parameter weighting function used in Nilsson  \n",
    "    @param p: float, real probability of gain or loss, should be in the interval (0,1) \n",
    "    @param c: float,the elevation of the weighting function, should be positive, expected in the interval (0,5)     \n",
    "    @return: float, subjective probability of gain or loss, should be in the interval (0,1) \n",
    "    \"\"\"\n",
    "    numer = tt.pow(p,c)\n",
    "    denom = tt.pow(tt.pow(p,c) + tt.pow(1-p,c),1/c)\n",
    "    return numer/denom\n",
    "\n",
    "def weights_numpy(p,c):\n",
    "    \"\"\"\n",
    "    one-parameter weighting function used in Nilsson\n",
    "    \n",
    "    @param p: float, real probability of gain or loss, should be in the interval (0,1) \n",
    "    @param c: float,the elevation of the weighting function, should be positive, expected in the interval (0,5) \n",
    "    @return: float, subjective probability of gain or loss, should be in the interval (0,1) \n",
    "    \"\"\"\n",
    "    numer = np.power(p,c)\n",
    "    denom = np.power(np.power(p,c) + np.power(1-p,c),1/c)\n",
    "    return numer/denom\n",
    "def value_numpy(x,alpha):\n",
    "    return np.sign(x)*np.abs(x)**alpha\n",
    "def gap(A, B, p, alpha, c):\n",
    "    \"\"\"\n",
    "    Here for loss we also have positive values, so need to multiply gap value to -1 later\n",
    "    \n",
    "    compute subjective difference between two options: A (game), B (sure)\n",
    "    @param A: float, positive, money, risk value\n",
    "    @param B: float, positive, money, sure option\n",
    "    @param alpha: float, expected to be less then 1  \n",
    "    \"\"\"\n",
    "    val = value_f(A, alpha)*weights(p,c) - value_f(B, alpha)\n",
    "    return val"
   ]
  },
  {
   "cell_type": "markdown",
   "metadata": {
    "Collapsed": "false"
   },
   "source": [
    "## Models estimation\n",
    "\n",
    "toDo: actualize models with the list below\n",
    "\n",
    "\n",
    " - model 0:  Only 1: win and 0:los (ignoring testosterone condition). The only model where we estimated CPT parameters from the data\n",
    " \n",
    "$$y_i \\sim Binomial(1, p_i)$$\n",
    "$$\\theta = logit(p_i)  = \\alpha_{cond} + \\beta_{cond}*gap(A,B,alpha,c)$$\n",
    "$$\\alpha_{cond} = Normal(0,1, shape = 2)$$\n",
    "\n",
    "$$\\beta_{cond} = BoundedNormal(0.4,0.5, shape = 2)$$\n",
    "\n",
    " - model 1: 4 conditions 0: Win(Placebo), 1: Win(Test),2: Loss(Placebo), 3: Loss(Test)\n",
    " \n",
    " $$y_i \\sim Binomial(1, p_i)$$\n",
    "$$\\theta = logit(p_i)  = \\alpha_{cond} + \\beta_{cond}*gap(A,B,alpha,c)$$\n",
    "$$\\alpha_{cond} = Normal(0,1, shape = 4)$$\n",
    "\n",
    "$$\\beta_{cond} = BoundedNormal(0.4,0.5, shape = 4)$$\n"
   ]
  },
  {
   "cell_type": "markdown",
   "metadata": {
    "Collapsed": "false"
   },
   "source": [
    "### Model evaluation functions\n",
    "\n",
    "For model quality evaluation we used:\n",
    " - posterior predictive checks: how well model explain the same data from the model. In our case we used two scorings: roc_auc_score, and $R^2$ for regression between real choise and predictions at the group level \n",
    "\n",
    " - WAIC (widely applicable information criterion)"
   ]
  },
  {
   "cell_type": "code",
   "execution_count": 20,
   "metadata": {
    "Collapsed": "false"
   },
   "outputs": [],
   "source": [
    "def est_model_group(trace, model, df=None):\n",
    "    est_df = df.copy()   \n",
    "    ppc = pm.sample_posterior_predictive(trace, samples=500, model=model)\n",
    "    beta = st.beta((ppc['Strg'] == 1).sum(axis=0), (ppc['Strg'] == 0).sum(axis=0))\n",
    "    est_df['Pred_lb'] = beta.interval(0.95)[0]\n",
    "    est_df['Pred_ub'] = beta.interval(0.95)[1]\n",
    "    est_df['Pred'] = ppc['Strg'].mean(axis=0)\n",
    "    res = est_df.groupby('GameId')[['Pred','Strategy']].mean()\n",
    "\n",
    "    res = est_df.groupby('GameId')[['Pred','Strategy', 'Pred_lb', 'Pred_ub']].mean()\n",
    "    errs = (res['Pred_lb'].values.T,res['Pred_ub'].values.T)\n",
    "\n",
    "    plt.plot(res.Strategy, res.Pred,'*',[0,1],[0,1]);\n",
    "    plt.vlines(res.Strategy, *errs, colors='gray')\n",
    "    \n",
    "    regressor = LinearRegression(fit_intercept=False)\n",
    "    regressor.fit(res.Strategy.values.reshape(-1,1), res.Pred.values.reshape(-1,1))\n",
    "    print(f'R^2 value for real and predicted data: {regressor.score(res.Strategy.values.reshape(-1,1), res.Pred.values.reshape(-1,1)):.2f}')\n",
    "    score = roc_auc_score(m_df.Strategy, ppc['Strg'].mean(axis = 0))\n",
    "    print(f'ROC_AUC score for real and predicted data: {score:.2f}')\n",
    "\n",
    "    #plt.show()\n",
    "    return est_df"
   ]
  },
  {
   "cell_type": "markdown",
   "metadata": {
    "Collapsed": "false"
   },
   "source": [
    "### Model 0: Original CPT model without shift and logarithmic transform\n"
   ]
  },
  {
   "cell_type": "code",
   "execution_count": 21,
   "metadata": {
    "Collapsed": "false"
   },
   "outputs": [
    {
     "name": "stderr",
     "output_type": "stream",
     "text": [
      "Auto-assigning NUTS sampler...\n",
      "Initializing NUTS using advi...\n",
      "Average Loss = 487.04:   8%|▊         | 16399/200000 [00:15<02:57, 1034.56it/s]\n",
      "Convergence achieved at 16400\n",
      "Interrupted at 16,399 [8%]: Average Loss = 1,075.7\n",
      "Multiprocess sampling (4 chains in 2 jobs)\n",
      "NUTS: [beta, c, alpha]\n",
      "Sampling 4 chains, 0 divergences: 100%|██████████| 10000/10000 [01:02<00:00, 160.50draws/s]\n",
      "The number of effective samples is smaller than 25% for some parameters.\n"
     ]
    }
   ],
   "source": [
    "chains = 4\n",
    "N = len(pd.unique(m_df.Inds))\n",
    "\n",
    "with pm.Model() as model_0:\n",
    "    \"\"\"\n",
    "    model without any individual distinctions, without testosterone. Estimation CPT model from the data\n",
    "    \"\"\"    \n",
    "    BoundedNormalI = pm.Bound(pm.Normal, lower=0.0, upper = 1.0)\n",
    "    BoundedNormal = pm.Bound(pm.Normal, lower=0.0)\n",
    "    \n",
    "    alpha = BoundedNormalI('alpha',mu = 0.75, sd=0.5, shape = 2)\n",
    "    c = BoundedNormalI('c', mu = 0.79, sd = 0.5, shape = 2)\n",
    "    beta = BoundedNormal('beta', 0.5,1, shape = 2)\n",
    "\n",
    "    Gap = gap(m_df.A, m_df.B, m_df.P, alpha[m_df.Win.values], c[m_df.Win.values]) \n",
    "\n",
    "    theta = pm.math.invlogit(beta[m_df.Win.values]*Gap)\n",
    "   \n",
    "    strategy = pm.Bernoulli(\"Strg\", p=theta, observed=m_df.Strategy)\n",
    "\n",
    "    trace_0 = pm.sample(2000, tune=500, target_accept=0.95, chains=chains, init = 'advi')[500:]\n",
    "    #model0 = az.from_pymc3(trace=trace_0)\n",
    "    #model0.to_netcdf(\"models/Model_0.nc\");    "
   ]
  },
  {
   "cell_type": "code",
   "execution_count": null,
   "metadata": {},
   "outputs": [],
   "source": []
  },
  {
   "cell_type": "code",
   "execution_count": 22,
   "metadata": {
    "Collapsed": "false"
   },
   "outputs": [
    {
     "data": {
      "text/plain": [
       "Computed from 6000 by 800 log-likelihood matrix\n",
       "\n",
       "        Estimate       SE\n",
       "IC_waic   849.88    27.97\n",
       "p_waic      3.99        -"
      ]
     },
     "execution_count": 22,
     "metadata": {},
     "output_type": "execute_result"
    }
   ],
   "source": [
    "\n",
    "#trace_0 = az.from_netcdf(os.path.join('models', \"Model_0.nc\"))\n",
    "az.waic(trace_0)"
   ]
  },
  {
   "cell_type": "code",
   "execution_count": null,
   "metadata": {
    "Collapsed": "false"
   },
   "outputs": [],
   "source": []
  },
  {
   "cell_type": "code",
   "execution_count": 23,
   "metadata": {
    "Collapsed": "false"
   },
   "outputs": [
    {
     "data": {
      "text/html": [
       "<div>\n",
       "<style scoped>\n",
       "    .dataframe tbody tr th:only-of-type {\n",
       "        vertical-align: middle;\n",
       "    }\n",
       "\n",
       "    .dataframe tbody tr th {\n",
       "        vertical-align: top;\n",
       "    }\n",
       "\n",
       "    .dataframe thead th {\n",
       "        text-align: right;\n",
       "    }\n",
       "</style>\n",
       "<table border=\"1\" class=\"dataframe\">\n",
       "  <thead>\n",
       "    <tr style=\"text-align: right;\">\n",
       "      <th></th>\n",
       "      <th>mean</th>\n",
       "      <th>sd</th>\n",
       "      <th>hpd_5.5%</th>\n",
       "      <th>hpd_94.5%</th>\n",
       "      <th>mcse_mean</th>\n",
       "      <th>mcse_sd</th>\n",
       "      <th>ess_mean</th>\n",
       "      <th>ess_sd</th>\n",
       "      <th>ess_bulk</th>\n",
       "      <th>ess_tail</th>\n",
       "      <th>r_hat</th>\n",
       "    </tr>\n",
       "  </thead>\n",
       "  <tbody>\n",
       "    <tr>\n",
       "      <th>alpha[0]</th>\n",
       "      <td>0.97</td>\n",
       "      <td>0.03</td>\n",
       "      <td>0.93</td>\n",
       "      <td>1.00</td>\n",
       "      <td>0.00</td>\n",
       "      <td>0.00</td>\n",
       "      <td>4148.03</td>\n",
       "      <td>4122.95</td>\n",
       "      <td>3126.97</td>\n",
       "      <td>2234.38</td>\n",
       "      <td>1.00</td>\n",
       "    </tr>\n",
       "    <tr>\n",
       "      <th>alpha[1]</th>\n",
       "      <td>0.35</td>\n",
       "      <td>0.09</td>\n",
       "      <td>0.21</td>\n",
       "      <td>0.49</td>\n",
       "      <td>0.00</td>\n",
       "      <td>0.00</td>\n",
       "      <td>785.98</td>\n",
       "      <td>785.98</td>\n",
       "      <td>812.71</td>\n",
       "      <td>876.44</td>\n",
       "      <td>1.01</td>\n",
       "    </tr>\n",
       "    <tr>\n",
       "      <th>c[0]</th>\n",
       "      <td>0.88</td>\n",
       "      <td>0.07</td>\n",
       "      <td>0.79</td>\n",
       "      <td>1.00</td>\n",
       "      <td>0.00</td>\n",
       "      <td>0.00</td>\n",
       "      <td>3480.84</td>\n",
       "      <td>3275.63</td>\n",
       "      <td>2886.94</td>\n",
       "      <td>1971.37</td>\n",
       "      <td>1.00</td>\n",
       "    </tr>\n",
       "    <tr>\n",
       "      <th>c[1]</th>\n",
       "      <td>0.95</td>\n",
       "      <td>0.04</td>\n",
       "      <td>0.90</td>\n",
       "      <td>1.00</td>\n",
       "      <td>0.00</td>\n",
       "      <td>0.00</td>\n",
       "      <td>1918.10</td>\n",
       "      <td>1894.67</td>\n",
       "      <td>1513.47</td>\n",
       "      <td>1524.39</td>\n",
       "      <td>1.00</td>\n",
       "    </tr>\n",
       "    <tr>\n",
       "      <th>beta[0]</th>\n",
       "      <td>0.00</td>\n",
       "      <td>0.00</td>\n",
       "      <td>0.00</td>\n",
       "      <td>0.01</td>\n",
       "      <td>0.00</td>\n",
       "      <td>0.00</td>\n",
       "      <td>4548.20</td>\n",
       "      <td>4434.57</td>\n",
       "      <td>4469.62</td>\n",
       "      <td>4589.72</td>\n",
       "      <td>1.00</td>\n",
       "    </tr>\n",
       "    <tr>\n",
       "      <th>beta[1]</th>\n",
       "      <td>0.62</td>\n",
       "      <td>0.28</td>\n",
       "      <td>0.25</td>\n",
       "      <td>0.97</td>\n",
       "      <td>0.01</td>\n",
       "      <td>0.01</td>\n",
       "      <td>743.21</td>\n",
       "      <td>698.25</td>\n",
       "      <td>836.68</td>\n",
       "      <td>884.07</td>\n",
       "      <td>1.01</td>\n",
       "    </tr>\n",
       "  </tbody>\n",
       "</table>\n",
       "</div>"
      ],
      "text/plain": [
       "          mean    sd  hpd_5.5%  hpd_94.5%  mcse_mean  mcse_sd  ess_mean  \\\n",
       "alpha[0]  0.97  0.03      0.93       1.00       0.00     0.00   4148.03   \n",
       "alpha[1]  0.35  0.09      0.21       0.49       0.00     0.00    785.98   \n",
       "c[0]      0.88  0.07      0.79       1.00       0.00     0.00   3480.84   \n",
       "c[1]      0.95  0.04      0.90       1.00       0.00     0.00   1918.10   \n",
       "beta[0]   0.00  0.00      0.00       0.01       0.00     0.00   4548.20   \n",
       "beta[1]   0.62  0.28      0.25       0.97       0.01     0.01    743.21   \n",
       "\n",
       "           ess_sd  ess_bulk  ess_tail  r_hat  \n",
       "alpha[0]  4122.95   3126.97   2234.38   1.00  \n",
       "alpha[1]   785.98    812.71    876.44   1.01  \n",
       "c[0]      3275.63   2886.94   1971.37   1.00  \n",
       "c[1]      1894.67   1513.47   1524.39   1.00  \n",
       "beta[0]   4434.57   4469.62   4589.72   1.00  \n",
       "beta[1]    698.25    836.68    884.07   1.01  "
      ]
     },
     "execution_count": 23,
     "metadata": {},
     "output_type": "execute_result"
    }
   ],
   "source": [
    "az.summary(trace_0,credible_interval=.89, round_to=2)"
   ]
  },
  {
   "cell_type": "markdown",
   "metadata": {
    "Collapsed": "false"
   },
   "source": [
    "In negative framing sensitivity equal to 0, what means random guess"
   ]
  },
  {
   "cell_type": "code",
   "execution_count": 24,
   "metadata": {
    "Collapsed": "false"
   },
   "outputs": [
    {
     "name": "stderr",
     "output_type": "stream",
     "text": [
      "/Users/votinov/anaconda3/lib/python3.7/site-packages/pymc3/sampling.py:1247: UserWarning: samples parameter is smaller than nchains times ndraws, some draws and/or chains may not be represented in the returned posterior predictive sample\n",
      "  \"samples parameter is smaller than nchains times ndraws, some draws \"\n",
      "100%|██████████| 500/500 [00:00<00:00, 951.16it/s]\n"
     ]
    },
    {
     "name": "stdout",
     "output_type": "stream",
     "text": [
      "R^2 value for real and predicted data: 0.63\n",
      "ROC_AUC score for real and predicted data: 0.75\n"
     ]
    },
    {
     "data": {
      "image/png": "[encoded data removed]",
      "text/plain": [
       "<Figure size 432x216 with 1 Axes>"
      ]
     },
     "metadata": {},
     "output_type": "display_data"
    }
   ],
   "source": [
    "est = est_model_group(trace_0, model_0, m_df);"
   ]
  },
  {
   "cell_type": "markdown",
   "metadata": {
    "Collapsed": "false"
   },
   "source": [
    "### Model 1: CPT model with shift and logarithmic transform"
   ]
  },
  {
   "cell_type": "code",
   "execution_count": 25,
   "metadata": {
    "Collapsed": "false"
   },
   "outputs": [
    {
     "name": "stderr",
     "output_type": "stream",
     "text": [
      "Auto-assigning NUTS sampler...\n",
      "Initializing NUTS using advi...\n",
      "Average Loss = 434.57:   7%|▋         | 14399/200000 [00:12<02:35, 1194.25it/s]\n",
      "Convergence achieved at 14400\n",
      "Interrupted at 14,399 [7%]: Average Loss = 521.58\n",
      "Multiprocess sampling (4 chains in 2 jobs)\n",
      "NUTS: [a, beta, c, alpha]\n",
      "Sampling 4 chains, 0 divergences: 100%|██████████| 10000/10000 [04:28<00:00, 37.27draws/s]\n",
      "The estimated number of effective samples is smaller than 200 for some parameters.\n"
     ]
    }
   ],
   "source": [
    "chains = 4\n",
    "N = len(pd.unique(m_df.Inds))\n",
    "\n",
    "with pm.Model() as model_1:\n",
    "    \"\"\"\n",
    "    model without any individual distinctions, without testosterone\n",
    "    \"\"\"\n",
    "    \n",
    "    BoundedNormalI = pm.Bound(pm.Normal, lower=0.0, upper = 1.0)\n",
    "    BoundedNormal = pm.Bound(pm.Normal, lower=0.0)\n",
    "    alpha = BoundedNormalI('alpha',mu = 0.75, sd=0.5, shape = 2)\n",
    "    c = BoundedNormalI('c', mu = 0.79, sd = 0.5, shape = 2)\n",
    "    beta = BoundedNormal('beta', 0.9,1, shape = 2)\n",
    "    a = pm.Normal('a', 0, 1, shape = 2)\n",
    "    \n",
    "\n",
    "    Gap = gap(m_df.A, m_df.B, m_df.P, alpha[m_df.Win.values], c[m_df.Win.values]) #[m_df.Win.values]\n",
    "    Gap = tt.sgn(Gap)*tt.log(1+tt.abs_(Gap))\n",
    "    \n",
    "    theta = pm.math.invlogit(a[m_df.Win.values]+beta[m_df.Win.values]*Gap)\n",
    "   \n",
    "    strategy = pm.Bernoulli(\"Strg\", p=theta, observed=m_df.Strategy)\n",
    "    trace_1 = pm.sample(2000, tune=500, target_accept=0.95, chains=chains, init = 'advi')[500:]"
   ]
  },
  {
   "cell_type": "code",
   "execution_count": 26,
   "metadata": {
    "Collapsed": "false"
   },
   "outputs": [
    {
     "data": {
      "text/plain": [
       "Computed from 6000 by 800 log-likelihood matrix\n",
       "\n",
       "        Estimate       SE\n",
       "IC_waic   815.38    28.77\n",
       "p_waic      6.29        -"
      ]
     },
     "execution_count": 26,
     "metadata": {},
     "output_type": "execute_result"
    }
   ],
   "source": [
    "az.waic(trace_1)"
   ]
  },
  {
   "cell_type": "code",
   "execution_count": 27,
   "metadata": {
    "Collapsed": "false"
   },
   "outputs": [
    {
     "data": {
      "text/html": [
       "<div>\n",
       "<style scoped>\n",
       "    .dataframe tbody tr th:only-of-type {\n",
       "        vertical-align: middle;\n",
       "    }\n",
       "\n",
       "    .dataframe tbody tr th {\n",
       "        vertical-align: top;\n",
       "    }\n",
       "\n",
       "    .dataframe thead th {\n",
       "        text-align: right;\n",
       "    }\n",
       "</style>\n",
       "<table border=\"1\" class=\"dataframe\">\n",
       "  <thead>\n",
       "    <tr style=\"text-align: right;\">\n",
       "      <th></th>\n",
       "      <th>mean</th>\n",
       "      <th>sd</th>\n",
       "      <th>hpd_5.5%</th>\n",
       "      <th>hpd_94.5%</th>\n",
       "      <th>mcse_mean</th>\n",
       "      <th>mcse_sd</th>\n",
       "      <th>ess_mean</th>\n",
       "      <th>ess_sd</th>\n",
       "      <th>ess_bulk</th>\n",
       "      <th>ess_tail</th>\n",
       "      <th>r_hat</th>\n",
       "    </tr>\n",
       "  </thead>\n",
       "  <tbody>\n",
       "    <tr>\n",
       "      <th>a[0]</th>\n",
       "      <td>-1.51</td>\n",
       "      <td>0.70</td>\n",
       "      <td>-2.61</td>\n",
       "      <td>-0.70</td>\n",
       "      <td>0.05</td>\n",
       "      <td>0.03</td>\n",
       "      <td>210.80</td>\n",
       "      <td>210.80</td>\n",
       "      <td>240.68</td>\n",
       "      <td>1400.71</td>\n",
       "      <td>1.03</td>\n",
       "    </tr>\n",
       "    <tr>\n",
       "      <th>a[1]</th>\n",
       "      <td>-0.43</td>\n",
       "      <td>0.99</td>\n",
       "      <td>-1.62</td>\n",
       "      <td>1.06</td>\n",
       "      <td>0.09</td>\n",
       "      <td>0.06</td>\n",
       "      <td>116.46</td>\n",
       "      <td>116.46</td>\n",
       "      <td>161.82</td>\n",
       "      <td>1174.94</td>\n",
       "      <td>1.01</td>\n",
       "    </tr>\n",
       "    <tr>\n",
       "      <th>alpha[0]</th>\n",
       "      <td>0.65</td>\n",
       "      <td>0.34</td>\n",
       "      <td>0.20</td>\n",
       "      <td>1.00</td>\n",
       "      <td>0.02</td>\n",
       "      <td>0.02</td>\n",
       "      <td>191.93</td>\n",
       "      <td>191.93</td>\n",
       "      <td>236.84</td>\n",
       "      <td>1342.21</td>\n",
       "      <td>1.03</td>\n",
       "    </tr>\n",
       "    <tr>\n",
       "      <th>alpha[1]</th>\n",
       "      <td>0.68</td>\n",
       "      <td>0.26</td>\n",
       "      <td>0.30</td>\n",
       "      <td>1.00</td>\n",
       "      <td>0.02</td>\n",
       "      <td>0.02</td>\n",
       "      <td>122.05</td>\n",
       "      <td>122.05</td>\n",
       "      <td>150.10</td>\n",
       "      <td>863.09</td>\n",
       "      <td>1.01</td>\n",
       "    </tr>\n",
       "    <tr>\n",
       "      <th>c[0]</th>\n",
       "      <td>0.91</td>\n",
       "      <td>0.08</td>\n",
       "      <td>0.80</td>\n",
       "      <td>1.00</td>\n",
       "      <td>0.00</td>\n",
       "      <td>0.00</td>\n",
       "      <td>1964.20</td>\n",
       "      <td>1964.20</td>\n",
       "      <td>1970.25</td>\n",
       "      <td>2018.95</td>\n",
       "      <td>1.00</td>\n",
       "    </tr>\n",
       "    <tr>\n",
       "      <th>c[1]</th>\n",
       "      <td>0.89</td>\n",
       "      <td>0.08</td>\n",
       "      <td>0.78</td>\n",
       "      <td>1.00</td>\n",
       "      <td>0.00</td>\n",
       "      <td>0.00</td>\n",
       "      <td>929.20</td>\n",
       "      <td>910.54</td>\n",
       "      <td>915.00</td>\n",
       "      <td>1443.08</td>\n",
       "      <td>1.00</td>\n",
       "    </tr>\n",
       "    <tr>\n",
       "      <th>beta[0]</th>\n",
       "      <td>0.84</td>\n",
       "      <td>0.82</td>\n",
       "      <td>0.16</td>\n",
       "      <td>2.09</td>\n",
       "      <td>0.05</td>\n",
       "      <td>0.04</td>\n",
       "      <td>231.71</td>\n",
       "      <td>231.71</td>\n",
       "      <td>247.61</td>\n",
       "      <td>1290.59</td>\n",
       "      <td>1.03</td>\n",
       "    </tr>\n",
       "    <tr>\n",
       "      <th>beta[1]</th>\n",
       "      <td>0.89</td>\n",
       "      <td>0.83</td>\n",
       "      <td>0.19</td>\n",
       "      <td>2.21</td>\n",
       "      <td>0.07</td>\n",
       "      <td>0.05</td>\n",
       "      <td>123.16</td>\n",
       "      <td>123.16</td>\n",
       "      <td>152.36</td>\n",
       "      <td>946.69</td>\n",
       "      <td>1.01</td>\n",
       "    </tr>\n",
       "  </tbody>\n",
       "</table>\n",
       "</div>"
      ],
      "text/plain": [
       "          mean    sd  hpd_5.5%  hpd_94.5%  mcse_mean  mcse_sd  ess_mean  \\\n",
       "a[0]     -1.51  0.70     -2.61      -0.70       0.05     0.03    210.80   \n",
       "a[1]     -0.43  0.99     -1.62       1.06       0.09     0.06    116.46   \n",
       "alpha[0]  0.65  0.34      0.20       1.00       0.02     0.02    191.93   \n",
       "alpha[1]  0.68  0.26      0.30       1.00       0.02     0.02    122.05   \n",
       "c[0]      0.91  0.08      0.80       1.00       0.00     0.00   1964.20   \n",
       "c[1]      0.89  0.08      0.78       1.00       0.00     0.00    929.20   \n",
       "beta[0]   0.84  0.82      0.16       2.09       0.05     0.04    231.71   \n",
       "beta[1]   0.89  0.83      0.19       2.21       0.07     0.05    123.16   \n",
       "\n",
       "           ess_sd  ess_bulk  ess_tail  r_hat  \n",
       "a[0]       210.80    240.68   1400.71   1.03  \n",
       "a[1]       116.46    161.82   1174.94   1.01  \n",
       "alpha[0]   191.93    236.84   1342.21   1.03  \n",
       "alpha[1]   122.05    150.10    863.09   1.01  \n",
       "c[0]      1964.20   1970.25   2018.95   1.00  \n",
       "c[1]       910.54    915.00   1443.08   1.00  \n",
       "beta[0]    231.71    247.61   1290.59   1.03  \n",
       "beta[1]    123.16    152.36    946.69   1.01  "
      ]
     },
     "execution_count": 27,
     "metadata": {},
     "output_type": "execute_result"
    }
   ],
   "source": [
    "az.summary(trace_1,credible_interval=.89, round_to=2)"
   ]
  },
  {
   "cell_type": "code",
   "execution_count": 28,
   "metadata": {
    "Collapsed": "false"
   },
   "outputs": [
    {
     "name": "stderr",
     "output_type": "stream",
     "text": [
      "/Users/votinov/anaconda3/lib/python3.7/site-packages/pymc3/sampling.py:1247: UserWarning: samples parameter is smaller than nchains times ndraws, some draws and/or chains may not be represented in the returned posterior predictive sample\n",
      "  \"samples parameter is smaller than nchains times ndraws, some draws \"\n",
      "100%|██████████| 500/500 [00:01<00:00, 286.31it/s]\n"
     ]
    },
    {
     "name": "stdout",
     "output_type": "stream",
     "text": [
      "R^2 value for real and predicted data: 0.82\n",
      "ROC_AUC score for real and predicted data: 0.76\n"
     ]
    },
    {
     "data": {
      "image/png": "[encoded data removed]",
      "text/plain": [
       "<Figure size 432x216 with 1 Axes>"
      ]
     },
     "metadata": {},
     "output_type": "display_data"
    }
   ],
   "source": [
    "est = est_model_group(trace_1, model_1, m_df);"
   ]
  },
  {
   "cell_type": "markdown",
   "metadata": {
    "Collapsed": "false"
   },
   "source": [
    "### Model 2:  with fixed alpha and c from replication study\n",
    "\n",
    "From replication study  (see notebook Rieksamp_replication.ipynb)\n",
    "$$\\alpha = 0.756 \\pm 0.033$$  \n",
    "$$c = 0.794 \\pm 0.022 $$"
   ]
  },
  {
   "cell_type": "code",
   "execution_count": 29,
   "metadata": {
    "Collapsed": "false"
   },
   "outputs": [
    {
     "name": "stderr",
     "output_type": "stream",
     "text": [
      "Auto-assigning NUTS sampler...\n",
      "Initializing NUTS using advi...\n",
      "Average Loss = 420.9:   5%|▍         | 9999/200000 [00:05<01:45, 1796.64it/s] \n",
      "Convergence achieved at 10000\n",
      "Interrupted at 9,999 [4%]: Average Loss = 522.26\n",
      "Multiprocess sampling (4 chains in 2 jobs)\n",
      "NUTS: [a, beta]\n",
      "Sampling 4 chains, 0 divergences: 100%|██████████| 10000/10000 [00:09<00:00, 1035.80draws/s]\n"
     ]
    }
   ],
   "source": [
    "chains = 4\n",
    "\n",
    "with pm.Model() as model_2:\n",
    "    \"\"\"\n",
    "    model without any individual distinctions, without testosterone\n",
    "    \"\"\"\n",
    "    #try with fixed value of alpha\n",
    "    \n",
    "    BoundedNormal = pm.Bound(pm.Normal, lower=0.0)\n",
    "    \n",
    "    alpha = 0.75\n",
    "    c = 0.8\n",
    "    \n",
    "    beta = BoundedNormal('beta', 0.5,1, shape = 2)\n",
    "    a = pm.Normal('a', 0, 1, shape = 2)\n",
    "    \n",
    "    Gap = gap(m_df.A, m_df.B, m_df.P, alpha, c) \n",
    "    Gap = tt.sgn(Gap)*tt.log(1+tt.abs_(Gap))\n",
    "    \n",
    "    theta = pm.math.invlogit(a[m_df.Win.values]+beta[m_df.Win.values]*Gap)\n",
    "   \n",
    "    strategy = pm.Bernoulli(\"Strg\", p=theta, observed=m_df.Strategy)\n",
    "    trace_2 = pm.sample(2000, tune=500, target_accept=0.95, chains=chains, init = 'advi')[500:]"
   ]
  },
  {
   "cell_type": "code",
   "execution_count": 30,
   "metadata": {
    "Collapsed": "false"
   },
   "outputs": [
    {
     "name": "stderr",
     "output_type": "stream",
     "text": [
      "/Users/votinov/anaconda3/lib/python3.7/site-packages/pymc3/sampling.py:1247: UserWarning: samples parameter is smaller than nchains times ndraws, some draws and/or chains may not be represented in the returned posterior predictive sample\n",
      "  \"samples parameter is smaller than nchains times ndraws, some draws \"\n",
      "100%|██████████| 500/500 [00:01<00:00, 404.15it/s]\n"
     ]
    },
    {
     "name": "stdout",
     "output_type": "stream",
     "text": [
      "R^2 value for real and predicted data: 0.77\n",
      "ROC_AUC score for real and predicted data: 0.76\n"
     ]
    },
    {
     "data": {
      "image/png": "[encoded data removed]",
      "text/plain": [
       "<Figure size 432x216 with 1 Axes>"
      ]
     },
     "metadata": {},
     "output_type": "display_data"
    }
   ],
   "source": [
    "est = est_model_group(trace_2, model_2, m_df);"
   ]
  },
  {
   "cell_type": "code",
   "execution_count": 31,
   "metadata": {
    "Collapsed": "false"
   },
   "outputs": [
    {
     "data": {
      "text/plain": [
       "Computed from 6000 by 800 log-likelihood matrix\n",
       "\n",
       "        Estimate       SE\n",
       "IC_waic   821.06    28.99\n",
       "p_waic      4.11        -"
      ]
     },
     "execution_count": 31,
     "metadata": {},
     "output_type": "execute_result"
    }
   ],
   "source": [
    "az.waic(trace_2)"
   ]
  },
  {
   "cell_type": "code",
   "execution_count": 32,
   "metadata": {
    "Collapsed": "false"
   },
   "outputs": [
    {
     "data": {
      "text/html": [
       "<div>\n",
       "<style scoped>\n",
       "    .dataframe tbody tr th:only-of-type {\n",
       "        vertical-align: middle;\n",
       "    }\n",
       "\n",
       "    .dataframe tbody tr th {\n",
       "        vertical-align: top;\n",
       "    }\n",
       "\n",
       "    .dataframe thead th {\n",
       "        text-align: right;\n",
       "    }\n",
       "</style>\n",
       "<table border=\"1\" class=\"dataframe\">\n",
       "  <thead>\n",
       "    <tr style=\"text-align: right;\">\n",
       "      <th></th>\n",
       "      <th>mean</th>\n",
       "      <th>sd</th>\n",
       "      <th>hpd_5.5%</th>\n",
       "      <th>hpd_94.5%</th>\n",
       "      <th>mcse_mean</th>\n",
       "      <th>mcse_sd</th>\n",
       "      <th>ess_mean</th>\n",
       "      <th>ess_sd</th>\n",
       "      <th>ess_bulk</th>\n",
       "      <th>ess_tail</th>\n",
       "      <th>r_hat</th>\n",
       "    </tr>\n",
       "  </thead>\n",
       "  <tbody>\n",
       "    <tr>\n",
       "      <th>a[0]</th>\n",
       "      <td>-1.14</td>\n",
       "      <td>0.15</td>\n",
       "      <td>-1.38</td>\n",
       "      <td>-0.91</td>\n",
       "      <td>0.0</td>\n",
       "      <td>0.0</td>\n",
       "      <td>3961.42</td>\n",
       "      <td>3928.59</td>\n",
       "      <td>3975.53</td>\n",
       "      <td>3932.09</td>\n",
       "      <td>1.0</td>\n",
       "    </tr>\n",
       "    <tr>\n",
       "      <th>a[1]</th>\n",
       "      <td>-0.90</td>\n",
       "      <td>0.13</td>\n",
       "      <td>-1.09</td>\n",
       "      <td>-0.69</td>\n",
       "      <td>0.0</td>\n",
       "      <td>0.0</td>\n",
       "      <td>5299.34</td>\n",
       "      <td>5134.15</td>\n",
       "      <td>5304.81</td>\n",
       "      <td>4127.42</td>\n",
       "      <td>1.0</td>\n",
       "    </tr>\n",
       "    <tr>\n",
       "      <th>beta[0]</th>\n",
       "      <td>0.30</td>\n",
       "      <td>0.04</td>\n",
       "      <td>0.24</td>\n",
       "      <td>0.37</td>\n",
       "      <td>0.0</td>\n",
       "      <td>0.0</td>\n",
       "      <td>3694.02</td>\n",
       "      <td>3680.21</td>\n",
       "      <td>3718.79</td>\n",
       "      <td>4058.37</td>\n",
       "      <td>1.0</td>\n",
       "    </tr>\n",
       "    <tr>\n",
       "      <th>beta[1]</th>\n",
       "      <td>0.42</td>\n",
       "      <td>0.05</td>\n",
       "      <td>0.33</td>\n",
       "      <td>0.50</td>\n",
       "      <td>0.0</td>\n",
       "      <td>0.0</td>\n",
       "      <td>4986.78</td>\n",
       "      <td>4986.78</td>\n",
       "      <td>4941.76</td>\n",
       "      <td>3952.90</td>\n",
       "      <td>1.0</td>\n",
       "    </tr>\n",
       "  </tbody>\n",
       "</table>\n",
       "</div>"
      ],
      "text/plain": [
       "         mean    sd  hpd_5.5%  hpd_94.5%  mcse_mean  mcse_sd  ess_mean  \\\n",
       "a[0]    -1.14  0.15     -1.38      -0.91        0.0      0.0   3961.42   \n",
       "a[1]    -0.90  0.13     -1.09      -0.69        0.0      0.0   5299.34   \n",
       "beta[0]  0.30  0.04      0.24       0.37        0.0      0.0   3694.02   \n",
       "beta[1]  0.42  0.05      0.33       0.50        0.0      0.0   4986.78   \n",
       "\n",
       "          ess_sd  ess_bulk  ess_tail  r_hat  \n",
       "a[0]     3928.59   3975.53   3932.09    1.0  \n",
       "a[1]     5134.15   5304.81   4127.42    1.0  \n",
       "beta[0]  3680.21   3718.79   4058.37    1.0  \n",
       "beta[1]  4986.78   4941.76   3952.90    1.0  "
      ]
     },
     "execution_count": 32,
     "metadata": {},
     "output_type": "execute_result"
    }
   ],
   "source": [
    "az.summary(trace_2,credible_interval=.89, round_to=2)"
   ]
  },
  {
   "cell_type": "markdown",
   "metadata": {
    "Collapsed": "false"
   },
   "source": [
    "### Model 3:  with fixed alpha and c from replication study, and 4 conditions"
   ]
  },
  {
   "cell_type": "code",
   "execution_count": 33,
   "metadata": {
    "Collapsed": "false"
   },
   "outputs": [
    {
     "name": "stderr",
     "output_type": "stream",
     "text": [
      "Auto-assigning NUTS sampler...\n",
      "Initializing NUTS using advi...\n",
      "Average Loss = 424.32:   5%|▍         | 9399/200000 [00:05<01:43, 1846.62it/s]\n",
      "Convergence achieved at 9400\n",
      "Interrupted at 9,399 [4%]: Average Loss = 528.51\n",
      "Multiprocess sampling (2 chains in 2 jobs)\n",
      "NUTS: [beta, a]\n",
      "Sampling 2 chains, 0 divergences: 100%|██████████| 5000/5000 [00:06<00:00, 796.57draws/s]\n"
     ]
    }
   ],
   "source": [
    "chains = 2\n",
    "N = len(pd.unique(m_df.Inds))\n",
    "\n",
    "with pm.Model() as model_3:\n",
    "    \"\"\"\n",
    "    model without any individual distinctions, with hormones\n",
    "    \"\"\"\n",
    "    #try with fixed value of alpha\n",
    "    \n",
    "    BoundedNormalI = pm.Bound(pm.Normal, lower=0.0, upper = 1.0)\n",
    "    BoundedNormal = pm.Bound(pm.Normal, lower=0.0)\n",
    "    \n",
    "    alpha = 0.75\n",
    "    c = 0.8\n",
    "\n",
    "    a = pm.Normal('a', 0, 1, shape = 4)\n",
    "    beta = BoundedNormal('beta', 0.5,0.5, shape = 4)\n",
    "    \n",
    "    Gap = gap(m_df.A, m_df.B, m_df.P, alpha, c) \n",
    "    Gap = tt.sgn(Gap)*tt.log(1+tt.abs_(Gap))\n",
    "    \n",
    "    theta = pm.math.invlogit(a[m_df.TypeCode.values]+beta[m_df.TypeCode.values]*Gap)\n",
    "   \n",
    "    strategy = pm.Binomial(\"Strg\", 1, p=theta, observed=m_df.Strategy)\n",
    "    trace_3 = pm.sample(2000, tune=500, target_accept=0.95, chains=chains, init = 'advi')[500:]"
   ]
  },
  {
   "cell_type": "code",
   "execution_count": 34,
   "metadata": {
    "Collapsed": "false"
   },
   "outputs": [
    {
     "data": {
      "text/plain": [
       "Computed from 3000 by 800 log-likelihood matrix\n",
       "\n",
       "        Estimate       SE\n",
       "IC_waic   823.47    29.59\n",
       "p_waic      8.26        -"
      ]
     },
     "execution_count": 34,
     "metadata": {},
     "output_type": "execute_result"
    }
   ],
   "source": [
    "az.waic(trace_3)"
   ]
  },
  {
   "cell_type": "code",
   "execution_count": 35,
   "metadata": {
    "Collapsed": "false"
   },
   "outputs": [
    {
     "data": {
      "text/html": [
       "<div>\n",
       "<style scoped>\n",
       "    .dataframe tbody tr th:only-of-type {\n",
       "        vertical-align: middle;\n",
       "    }\n",
       "\n",
       "    .dataframe tbody tr th {\n",
       "        vertical-align: top;\n",
       "    }\n",
       "\n",
       "    .dataframe thead th {\n",
       "        text-align: right;\n",
       "    }\n",
       "</style>\n",
       "<table border=\"1\" class=\"dataframe\">\n",
       "  <thead>\n",
       "    <tr style=\"text-align: right;\">\n",
       "      <th></th>\n",
       "      <th>mean</th>\n",
       "      <th>sd</th>\n",
       "      <th>hpd_12.5%</th>\n",
       "      <th>hpd_87.5%</th>\n",
       "      <th>mcse_mean</th>\n",
       "      <th>mcse_sd</th>\n",
       "      <th>ess_mean</th>\n",
       "      <th>ess_sd</th>\n",
       "      <th>ess_bulk</th>\n",
       "      <th>ess_tail</th>\n",
       "      <th>r_hat</th>\n",
       "    </tr>\n",
       "  </thead>\n",
       "  <tbody>\n",
       "    <tr>\n",
       "      <th>a[0]</th>\n",
       "      <td>-1.03</td>\n",
       "      <td>0.18</td>\n",
       "      <td>-1.24</td>\n",
       "      <td>-0.83</td>\n",
       "      <td>0.0</td>\n",
       "      <td>0.0</td>\n",
       "      <td>3464.79</td>\n",
       "      <td>3421.93</td>\n",
       "      <td>3454.36</td>\n",
       "      <td>2366.80</td>\n",
       "      <td>1.0</td>\n",
       "    </tr>\n",
       "    <tr>\n",
       "      <th>a[1]</th>\n",
       "      <td>-0.76</td>\n",
       "      <td>0.18</td>\n",
       "      <td>-0.97</td>\n",
       "      <td>-0.55</td>\n",
       "      <td>0.0</td>\n",
       "      <td>0.0</td>\n",
       "      <td>2829.59</td>\n",
       "      <td>2729.68</td>\n",
       "      <td>2831.86</td>\n",
       "      <td>2453.14</td>\n",
       "      <td>1.0</td>\n",
       "    </tr>\n",
       "    <tr>\n",
       "      <th>a[2]</th>\n",
       "      <td>-1.06</td>\n",
       "      <td>0.21</td>\n",
       "      <td>-1.32</td>\n",
       "      <td>-0.85</td>\n",
       "      <td>0.0</td>\n",
       "      <td>0.0</td>\n",
       "      <td>1840.35</td>\n",
       "      <td>1611.23</td>\n",
       "      <td>1960.32</td>\n",
       "      <td>1498.88</td>\n",
       "      <td>1.0</td>\n",
       "    </tr>\n",
       "    <tr>\n",
       "      <th>a[3]</th>\n",
       "      <td>-1.21</td>\n",
       "      <td>0.21</td>\n",
       "      <td>-1.45</td>\n",
       "      <td>-0.97</td>\n",
       "      <td>0.0</td>\n",
       "      <td>0.0</td>\n",
       "      <td>2399.67</td>\n",
       "      <td>2336.37</td>\n",
       "      <td>2428.47</td>\n",
       "      <td>2275.95</td>\n",
       "      <td>1.0</td>\n",
       "    </tr>\n",
       "    <tr>\n",
       "      <th>beta[0]</th>\n",
       "      <td>0.33</td>\n",
       "      <td>0.07</td>\n",
       "      <td>0.24</td>\n",
       "      <td>0.41</td>\n",
       "      <td>0.0</td>\n",
       "      <td>0.0</td>\n",
       "      <td>2211.92</td>\n",
       "      <td>2211.92</td>\n",
       "      <td>2150.13</td>\n",
       "      <td>1370.60</td>\n",
       "      <td>1.0</td>\n",
       "    </tr>\n",
       "    <tr>\n",
       "      <th>beta[1]</th>\n",
       "      <td>0.52</td>\n",
       "      <td>0.08</td>\n",
       "      <td>0.43</td>\n",
       "      <td>0.60</td>\n",
       "      <td>0.0</td>\n",
       "      <td>0.0</td>\n",
       "      <td>3304.90</td>\n",
       "      <td>3304.90</td>\n",
       "      <td>3272.96</td>\n",
       "      <td>2239.20</td>\n",
       "      <td>1.0</td>\n",
       "    </tr>\n",
       "    <tr>\n",
       "      <th>beta[2]</th>\n",
       "      <td>0.32</td>\n",
       "      <td>0.06</td>\n",
       "      <td>0.25</td>\n",
       "      <td>0.38</td>\n",
       "      <td>0.0</td>\n",
       "      <td>0.0</td>\n",
       "      <td>1803.01</td>\n",
       "      <td>1766.21</td>\n",
       "      <td>1831.16</td>\n",
       "      <td>1817.54</td>\n",
       "      <td>1.0</td>\n",
       "    </tr>\n",
       "    <tr>\n",
       "      <th>beta[3]</th>\n",
       "      <td>0.29</td>\n",
       "      <td>0.06</td>\n",
       "      <td>0.22</td>\n",
       "      <td>0.35</td>\n",
       "      <td>0.0</td>\n",
       "      <td>0.0</td>\n",
       "      <td>2257.30</td>\n",
       "      <td>2257.30</td>\n",
       "      <td>2232.46</td>\n",
       "      <td>2092.16</td>\n",
       "      <td>1.0</td>\n",
       "    </tr>\n",
       "  </tbody>\n",
       "</table>\n",
       "</div>"
      ],
      "text/plain": [
       "         mean    sd  hpd_12.5%  hpd_87.5%  mcse_mean  mcse_sd  ess_mean  \\\n",
       "a[0]    -1.03  0.18      -1.24      -0.83        0.0      0.0   3464.79   \n",
       "a[1]    -0.76  0.18      -0.97      -0.55        0.0      0.0   2829.59   \n",
       "a[2]    -1.06  0.21      -1.32      -0.85        0.0      0.0   1840.35   \n",
       "a[3]    -1.21  0.21      -1.45      -0.97        0.0      0.0   2399.67   \n",
       "beta[0]  0.33  0.07       0.24       0.41        0.0      0.0   2211.92   \n",
       "beta[1]  0.52  0.08       0.43       0.60        0.0      0.0   3304.90   \n",
       "beta[2]  0.32  0.06       0.25       0.38        0.0      0.0   1803.01   \n",
       "beta[3]  0.29  0.06       0.22       0.35        0.0      0.0   2257.30   \n",
       "\n",
       "          ess_sd  ess_bulk  ess_tail  r_hat  \n",
       "a[0]     3421.93   3454.36   2366.80    1.0  \n",
       "a[1]     2729.68   2831.86   2453.14    1.0  \n",
       "a[2]     1611.23   1960.32   1498.88    1.0  \n",
       "a[3]     2336.37   2428.47   2275.95    1.0  \n",
       "beta[0]  2211.92   2150.13   1370.60    1.0  \n",
       "beta[1]  3304.90   3272.96   2239.20    1.0  \n",
       "beta[2]  1766.21   1831.16   1817.54    1.0  \n",
       "beta[3]  2257.30   2232.46   2092.16    1.0  "
      ]
     },
     "execution_count": 35,
     "metadata": {},
     "output_type": "execute_result"
    }
   ],
   "source": [
    "az.summary(trace_3, credible_interval=.75, round_to=2)"
   ]
  },
  {
   "cell_type": "code",
   "execution_count": 36,
   "metadata": {
    "Collapsed": "false"
   },
   "outputs": [
    {
     "name": "stderr",
     "output_type": "stream",
     "text": [
      "/Users/votinov/anaconda3/lib/python3.7/site-packages/pymc3/sampling.py:1247: UserWarning: samples parameter is smaller than nchains times ndraws, some draws and/or chains may not be represented in the returned posterior predictive sample\n",
      "  \"samples parameter is smaller than nchains times ndraws, some draws \"\n",
      "100%|██████████| 500/500 [00:00<00:00, 1026.47it/s]\n"
     ]
    },
    {
     "name": "stdout",
     "output_type": "stream",
     "text": [
      "R^2 value for real and predicted data: 0.81\n",
      "ROC_AUC score for real and predicted data: 0.77\n"
     ]
    },
    {
     "data": {
      "image/png": "[encoded data removed]",
      "text/plain": [
       "<Figure size 432x216 with 1 Axes>"
      ]
     },
     "metadata": {},
     "output_type": "display_data"
    }
   ],
   "source": [
    "est = est_model_group(trace_3, model_3, m_df);"
   ]
  },
  {
   "cell_type": "markdown",
   "metadata": {
    "Collapsed": "false"
   },
   "source": [
    "### Model 4: reparametrization: additional testosterone effect\n",
    "The same model as previous, but parameterized with additional effect of testosterone"
   ]
  },
  {
   "cell_type": "code",
   "execution_count": 37,
   "metadata": {
    "Collapsed": "false"
   },
   "outputs": [
    {
     "name": "stderr",
     "output_type": "stream",
     "text": [
      "Auto-assigning NUTS sampler...\n",
      "Initializing NUTS using advi...\n",
      "Average Loss = 422.02:   7%|▋         | 14199/200000 [00:09<02:03, 1502.03it/s]\n",
      "Convergence achieved at 14200\n",
      "Interrupted at 14,199 [7%]: Average Loss = 517.18\n",
      "Multiprocess sampling (2 chains in 2 jobs)\n",
      "NUTS: [delta_b, delta_a, beta, a]\n",
      "Sampling 2 chains, 0 divergences: 100%|██████████| 5000/5000 [00:10<00:00, 455.53draws/s]\n"
     ]
    }
   ],
   "source": [
    "chains = 2\n",
    "N = len(pd.unique(m_df.Inds))\n",
    "\n",
    "with pm.Model() as model_4:\n",
    "    \"\"\"\n",
    "    model without any individual distinctions, with hormones\n",
    "    \"\"\"\n",
    "    \n",
    "    BoundedNormal = pm.Bound(pm.Normal, lower=0.0)\n",
    "    \n",
    "    alpha = 0.75\n",
    "    c = 0.8\n",
    "\n",
    "    a = pm.Normal('a', 0, 1, shape = 2)\n",
    "    beta = BoundedNormal('beta', 0.5,0.5, shape = 2)\n",
    "    delta_a = pm.Normal('delta_a', 0, 0.5, shape = 2)\n",
    "    delta_b = pm.Normal('delta_b', 0, 0.5, shape = 2)\n",
    "\n",
    "    Gap = gap(m_df.A, m_df.B, m_df.P, alpha, c) \n",
    "    Gap = tt.sgn(Gap)*tt.log(1+tt.abs_(Gap))\n",
    "    theta_lin = a[m_df.Win.values]+delta_a[m_df.Win.values]*m_df.Test.values+(beta[m_df.Win.values]+delta_b[m_df.Win.values]*m_df.Test.values)*Gap\n",
    "    \n",
    "    theta = pm.math.invlogit(theta_lin)\n",
    "   \n",
    "    strategy = pm.Binomial(\"Strg\", 1, p=theta, observed=m_df.Strategy)\n",
    "    trace_4 = pm.sample(2000, tune=500, target_accept=0.95, chains=chains, init = 'advi')[500:]"
   ]
  },
  {
   "cell_type": "code",
   "execution_count": 38,
   "metadata": {
    "Collapsed": "false"
   },
   "outputs": [
    {
     "data": {
      "text/plain": [
       "Computed from 3000 by 800 log-likelihood matrix\n",
       "\n",
       "        Estimate       SE\n",
       "IC_waic   822.11    29.70\n",
       "p_waic      7.56        -"
      ]
     },
     "execution_count": 38,
     "metadata": {},
     "output_type": "execute_result"
    }
   ],
   "source": [
    "az.waic(trace_4)"
   ]
  },
  {
   "cell_type": "code",
   "execution_count": 39,
   "metadata": {
    "Collapsed": "false"
   },
   "outputs": [
    {
     "data": {
      "text/html": [
       "<div>\n",
       "<style scoped>\n",
       "    .dataframe tbody tr th:only-of-type {\n",
       "        vertical-align: middle;\n",
       "    }\n",
       "\n",
       "    .dataframe tbody tr th {\n",
       "        vertical-align: top;\n",
       "    }\n",
       "\n",
       "    .dataframe thead th {\n",
       "        text-align: right;\n",
       "    }\n",
       "</style>\n",
       "<table border=\"1\" class=\"dataframe\">\n",
       "  <thead>\n",
       "    <tr style=\"text-align: right;\">\n",
       "      <th></th>\n",
       "      <th>mean</th>\n",
       "      <th>sd</th>\n",
       "      <th>hpd_12.5%</th>\n",
       "      <th>hpd_87.5%</th>\n",
       "      <th>mcse_mean</th>\n",
       "      <th>mcse_sd</th>\n",
       "      <th>ess_mean</th>\n",
       "      <th>ess_sd</th>\n",
       "      <th>ess_bulk</th>\n",
       "      <th>ess_tail</th>\n",
       "      <th>r_hat</th>\n",
       "    </tr>\n",
       "  </thead>\n",
       "  <tbody>\n",
       "    <tr>\n",
       "      <th>a[0]</th>\n",
       "      <td>-1.08</td>\n",
       "      <td>0.19</td>\n",
       "      <td>-1.29</td>\n",
       "      <td>-0.86</td>\n",
       "      <td>0.00</td>\n",
       "      <td>0.0</td>\n",
       "      <td>1497.69</td>\n",
       "      <td>1497.69</td>\n",
       "      <td>1504.04</td>\n",
       "      <td>1840.07</td>\n",
       "      <td>1.0</td>\n",
       "    </tr>\n",
       "    <tr>\n",
       "      <th>a[1]</th>\n",
       "      <td>-1.00</td>\n",
       "      <td>0.17</td>\n",
       "      <td>-1.20</td>\n",
       "      <td>-0.81</td>\n",
       "      <td>0.00</td>\n",
       "      <td>0.0</td>\n",
       "      <td>2332.40</td>\n",
       "      <td>2285.74</td>\n",
       "      <td>2348.62</td>\n",
       "      <td>2066.08</td>\n",
       "      <td>1.0</td>\n",
       "    </tr>\n",
       "    <tr>\n",
       "      <th>delta_a[0]</th>\n",
       "      <td>-0.16</td>\n",
       "      <td>0.25</td>\n",
       "      <td>-0.44</td>\n",
       "      <td>0.15</td>\n",
       "      <td>0.01</td>\n",
       "      <td>0.0</td>\n",
       "      <td>1635.49</td>\n",
       "      <td>1635.49</td>\n",
       "      <td>1632.30</td>\n",
       "      <td>2194.00</td>\n",
       "      <td>1.0</td>\n",
       "    </tr>\n",
       "    <tr>\n",
       "      <th>delta_a[1]</th>\n",
       "      <td>0.18</td>\n",
       "      <td>0.23</td>\n",
       "      <td>-0.11</td>\n",
       "      <td>0.43</td>\n",
       "      <td>0.00</td>\n",
       "      <td>0.0</td>\n",
       "      <td>2328.26</td>\n",
       "      <td>1802.92</td>\n",
       "      <td>2335.26</td>\n",
       "      <td>2076.47</td>\n",
       "      <td>1.0</td>\n",
       "    </tr>\n",
       "    <tr>\n",
       "      <th>delta_b[0]</th>\n",
       "      <td>-0.03</td>\n",
       "      <td>0.08</td>\n",
       "      <td>-0.12</td>\n",
       "      <td>0.06</td>\n",
       "      <td>0.00</td>\n",
       "      <td>0.0</td>\n",
       "      <td>1698.66</td>\n",
       "      <td>1698.66</td>\n",
       "      <td>1702.20</td>\n",
       "      <td>2128.16</td>\n",
       "      <td>1.0</td>\n",
       "    </tr>\n",
       "    <tr>\n",
       "      <th>delta_b[1]</th>\n",
       "      <td>0.19</td>\n",
       "      <td>0.10</td>\n",
       "      <td>0.06</td>\n",
       "      <td>0.30</td>\n",
       "      <td>0.00</td>\n",
       "      <td>0.0</td>\n",
       "      <td>2598.16</td>\n",
       "      <td>2255.33</td>\n",
       "      <td>2593.34</td>\n",
       "      <td>2041.99</td>\n",
       "      <td>1.0</td>\n",
       "    </tr>\n",
       "    <tr>\n",
       "      <th>beta[0]</th>\n",
       "      <td>0.32</td>\n",
       "      <td>0.06</td>\n",
       "      <td>0.26</td>\n",
       "      <td>0.38</td>\n",
       "      <td>0.00</td>\n",
       "      <td>0.0</td>\n",
       "      <td>1641.55</td>\n",
       "      <td>1641.55</td>\n",
       "      <td>1633.22</td>\n",
       "      <td>1878.90</td>\n",
       "      <td>1.0</td>\n",
       "    </tr>\n",
       "    <tr>\n",
       "      <th>beta[1]</th>\n",
       "      <td>0.33</td>\n",
       "      <td>0.07</td>\n",
       "      <td>0.25</td>\n",
       "      <td>0.41</td>\n",
       "      <td>0.00</td>\n",
       "      <td>0.0</td>\n",
       "      <td>2294.21</td>\n",
       "      <td>2294.21</td>\n",
       "      <td>2281.56</td>\n",
       "      <td>1836.18</td>\n",
       "      <td>1.0</td>\n",
       "    </tr>\n",
       "  </tbody>\n",
       "</table>\n",
       "</div>"
      ],
      "text/plain": [
       "            mean    sd  hpd_12.5%  hpd_87.5%  mcse_mean  mcse_sd  ess_mean  \\\n",
       "a[0]       -1.08  0.19      -1.29      -0.86       0.00      0.0   1497.69   \n",
       "a[1]       -1.00  0.17      -1.20      -0.81       0.00      0.0   2332.40   \n",
       "delta_a[0] -0.16  0.25      -0.44       0.15       0.01      0.0   1635.49   \n",
       "delta_a[1]  0.18  0.23      -0.11       0.43       0.00      0.0   2328.26   \n",
       "delta_b[0] -0.03  0.08      -0.12       0.06       0.00      0.0   1698.66   \n",
       "delta_b[1]  0.19  0.10       0.06       0.30       0.00      0.0   2598.16   \n",
       "beta[0]     0.32  0.06       0.26       0.38       0.00      0.0   1641.55   \n",
       "beta[1]     0.33  0.07       0.25       0.41       0.00      0.0   2294.21   \n",
       "\n",
       "             ess_sd  ess_bulk  ess_tail  r_hat  \n",
       "a[0]        1497.69   1504.04   1840.07    1.0  \n",
       "a[1]        2285.74   2348.62   2066.08    1.0  \n",
       "delta_a[0]  1635.49   1632.30   2194.00    1.0  \n",
       "delta_a[1]  1802.92   2335.26   2076.47    1.0  \n",
       "delta_b[0]  1698.66   1702.20   2128.16    1.0  \n",
       "delta_b[1]  2255.33   2593.34   2041.99    1.0  \n",
       "beta[0]     1641.55   1633.22   1878.90    1.0  \n",
       "beta[1]     2294.21   2281.56   1836.18    1.0  "
      ]
     },
     "execution_count": 39,
     "metadata": {},
     "output_type": "execute_result"
    }
   ],
   "source": [
    "az.summary(trace_4,credible_interval=.75, round_to=2)"
   ]
  },
  {
   "cell_type": "code",
   "execution_count": 40,
   "metadata": {
    "Collapsed": "false"
   },
   "outputs": [
    {
     "name": "stderr",
     "output_type": "stream",
     "text": [
      "/Users/votinov/anaconda3/lib/python3.7/site-packages/pymc3/sampling.py:1247: UserWarning: samples parameter is smaller than nchains times ndraws, some draws and/or chains may not be represented in the returned posterior predictive sample\n",
      "  \"samples parameter is smaller than nchains times ndraws, some draws \"\n",
      "100%|██████████| 500/500 [00:01<00:00, 350.98it/s]\n"
     ]
    },
    {
     "name": "stdout",
     "output_type": "stream",
     "text": [
      "R^2 value for real and predicted data: 0.81\n",
      "ROC_AUC score for real and predicted data: 0.76\n"
     ]
    },
    {
     "data": {
      "image/png": "[encoded data removed]",
      "text/plain": [
       "<Figure size 432x216 with 1 Axes>"
      ]
     },
     "metadata": {},
     "output_type": "display_data"
    }
   ],
   "source": [
    "est = est_model_group(trace_4, model_4, m_df);"
   ]
  },
  {
   "cell_type": "markdown",
   "metadata": {
    "Collapsed": "false"
   },
   "source": [
    "### Model 5. Modification with the level of percentage changes"
   ]
  },
  {
   "cell_type": "code",
   "execution_count": 41,
   "metadata": {
    "Collapsed": "false"
   },
   "outputs": [
    {
     "name": "stderr",
     "output_type": "stream",
     "text": [
      "Auto-assigning NUTS sampler...\n",
      "Initializing NUTS using advi...\n",
      "Average Loss = 420.87:   7%|▋         | 14999/200000 [00:10<02:04, 1487.13it/s]\n",
      "Convergence achieved at 15000\n",
      "Interrupted at 14,999 [7%]: Average Loss = 518.2\n",
      "Multiprocess sampling (2 chains in 2 jobs)\n",
      "NUTS: [delta_b, delta_a, beta, a]\n",
      "Sampling 2 chains, 0 divergences: 100%|██████████| 5000/5000 [00:09<00:00, 527.86draws/s]\n"
     ]
    }
   ],
   "source": [
    "chains = 2\n",
    "N = len(pd.unique(m_df.Inds))\n",
    "\n",
    "with pm.Model() as model_5:\n",
    "    \"\"\"\n",
    "    model without any individual distinctions, with hormones\n",
    "    \"\"\"\n",
    "    \n",
    "    BoundedNormal = pm.Bound(pm.Normal, lower=0.0)\n",
    "    \n",
    "    alpha = 0.75\n",
    "    c = 0.8\n",
    "\n",
    "    a = pm.Normal('a', 0, 1, shape = 2)\n",
    "    beta = BoundedNormal('beta', 0.5,0.5, shape = 2)\n",
    "    delta_a = pm.Normal('delta_a', 0, 0.5, shape = 2)\n",
    "    delta_b = pm.Normal('delta_b', 0, 0.5, shape = 2)\n",
    "\n",
    " \n",
    "    Gap = gap(m_df.A, m_df.B, m_df.P, alpha, c) \n",
    "    Gap = tt.sgn(Gap)*tt.log(1+tt.abs_(Gap))\n",
    "    theta_lin = a[m_df.Win.values]+delta_a[m_df.Win.values]*m_df.TPl_change.values+(beta[m_df.Win.values]+delta_b[m_df.Win.values]*m_df.TPl_change.values)*Gap\n",
    "    \n",
    "    theta = pm.math.invlogit(theta_lin)\n",
    "   \n",
    "    strategy = pm.Binomial(\"Strg\", 1, p=theta, observed=m_df.Strategy)\n",
    "    trace_5 = pm.sample(2000, tune=500, target_accept=0.95, chains=chains, init = 'advi')[500:]"
   ]
  },
  {
   "cell_type": "code",
   "execution_count": 42,
   "metadata": {
    "Collapsed": "false"
   },
   "outputs": [
    {
     "name": "stderr",
     "output_type": "stream",
     "text": [
      "/Users/votinov/anaconda3/lib/python3.7/site-packages/arviz/stats/stats.py:1196: UserWarning: For one or more samples the posterior variance of the log predictive densities exceeds 0.4. This could be indication of WAIC starting to fail. \n",
      "See http://arxiv.org/abs/1507.04544 for details\n",
      "  \"For one or more samples the posterior variance of the log predictive \"\n"
     ]
    },
    {
     "data": {
      "text/plain": [
       "Computed from 3000 by 800 log-likelihood matrix\n",
       "\n",
       "        Estimate       SE\n",
       "IC_waic   820.00    29.55\n",
       "p_waic      7.44        -\n",
       "\n",
       "There has been a warning during the calculation. Please check the results."
      ]
     },
     "execution_count": 42,
     "metadata": {},
     "output_type": "execute_result"
    }
   ],
   "source": [
    "az.waic(trace_5)"
   ]
  },
  {
   "cell_type": "code",
   "execution_count": 43,
   "metadata": {
    "Collapsed": "false"
   },
   "outputs": [
    {
     "data": {
      "text/html": [
       "<div>\n",
       "<style scoped>\n",
       "    .dataframe tbody tr th:only-of-type {\n",
       "        vertical-align: middle;\n",
       "    }\n",
       "\n",
       "    .dataframe tbody tr th {\n",
       "        vertical-align: top;\n",
       "    }\n",
       "\n",
       "    .dataframe thead th {\n",
       "        text-align: right;\n",
       "    }\n",
       "</style>\n",
       "<table border=\"1\" class=\"dataframe\">\n",
       "  <thead>\n",
       "    <tr style=\"text-align: right;\">\n",
       "      <th></th>\n",
       "      <th>mean</th>\n",
       "      <th>sd</th>\n",
       "      <th>hpd_12.5%</th>\n",
       "      <th>hpd_87.5%</th>\n",
       "      <th>mcse_mean</th>\n",
       "      <th>mcse_sd</th>\n",
       "      <th>ess_mean</th>\n",
       "      <th>ess_sd</th>\n",
       "      <th>ess_bulk</th>\n",
       "      <th>ess_tail</th>\n",
       "      <th>r_hat</th>\n",
       "    </tr>\n",
       "  </thead>\n",
       "  <tbody>\n",
       "    <tr>\n",
       "      <th>a[0]</th>\n",
       "      <td>-0.98</td>\n",
       "      <td>0.16</td>\n",
       "      <td>-1.17</td>\n",
       "      <td>-0.80</td>\n",
       "      <td>0.00</td>\n",
       "      <td>0.0</td>\n",
       "      <td>1939.90</td>\n",
       "      <td>1864.16</td>\n",
       "      <td>1971.45</td>\n",
       "      <td>2187.88</td>\n",
       "      <td>1.0</td>\n",
       "    </tr>\n",
       "    <tr>\n",
       "      <th>a[1]</th>\n",
       "      <td>-0.93</td>\n",
       "      <td>0.15</td>\n",
       "      <td>-1.10</td>\n",
       "      <td>-0.77</td>\n",
       "      <td>0.00</td>\n",
       "      <td>0.0</td>\n",
       "      <td>2597.10</td>\n",
       "      <td>2536.88</td>\n",
       "      <td>2609.40</td>\n",
       "      <td>2333.86</td>\n",
       "      <td>1.0</td>\n",
       "    </tr>\n",
       "    <tr>\n",
       "      <th>delta_a[0]</th>\n",
       "      <td>-0.48</td>\n",
       "      <td>0.25</td>\n",
       "      <td>-0.76</td>\n",
       "      <td>-0.19</td>\n",
       "      <td>0.01</td>\n",
       "      <td>0.0</td>\n",
       "      <td>1366.83</td>\n",
       "      <td>1335.43</td>\n",
       "      <td>1394.06</td>\n",
       "      <td>1650.18</td>\n",
       "      <td>1.0</td>\n",
       "    </tr>\n",
       "    <tr>\n",
       "      <th>delta_a[1]</th>\n",
       "      <td>0.03</td>\n",
       "      <td>0.20</td>\n",
       "      <td>-0.19</td>\n",
       "      <td>0.26</td>\n",
       "      <td>0.00</td>\n",
       "      <td>0.0</td>\n",
       "      <td>2549.02</td>\n",
       "      <td>1626.86</td>\n",
       "      <td>2536.68</td>\n",
       "      <td>2114.44</td>\n",
       "      <td>1.0</td>\n",
       "    </tr>\n",
       "    <tr>\n",
       "      <th>delta_b[0]</th>\n",
       "      <td>0.06</td>\n",
       "      <td>0.07</td>\n",
       "      <td>-0.04</td>\n",
       "      <td>0.13</td>\n",
       "      <td>0.00</td>\n",
       "      <td>0.0</td>\n",
       "      <td>1260.24</td>\n",
       "      <td>1171.49</td>\n",
       "      <td>1282.97</td>\n",
       "      <td>1855.77</td>\n",
       "      <td>1.0</td>\n",
       "    </tr>\n",
       "    <tr>\n",
       "      <th>delta_b[1]</th>\n",
       "      <td>0.15</td>\n",
       "      <td>0.09</td>\n",
       "      <td>0.04</td>\n",
       "      <td>0.24</td>\n",
       "      <td>0.00</td>\n",
       "      <td>0.0</td>\n",
       "      <td>2569.43</td>\n",
       "      <td>2024.18</td>\n",
       "      <td>2624.79</td>\n",
       "      <td>2014.16</td>\n",
       "      <td>1.0</td>\n",
       "    </tr>\n",
       "    <tr>\n",
       "      <th>beta[0]</th>\n",
       "      <td>0.29</td>\n",
       "      <td>0.05</td>\n",
       "      <td>0.23</td>\n",
       "      <td>0.34</td>\n",
       "      <td>0.00</td>\n",
       "      <td>0.0</td>\n",
       "      <td>1674.22</td>\n",
       "      <td>1674.22</td>\n",
       "      <td>1677.74</td>\n",
       "      <td>1791.93</td>\n",
       "      <td>1.0</td>\n",
       "    </tr>\n",
       "    <tr>\n",
       "      <th>beta[1]</th>\n",
       "      <td>0.36</td>\n",
       "      <td>0.06</td>\n",
       "      <td>0.29</td>\n",
       "      <td>0.44</td>\n",
       "      <td>0.00</td>\n",
       "      <td>0.0</td>\n",
       "      <td>2876.57</td>\n",
       "      <td>2876.57</td>\n",
       "      <td>2866.48</td>\n",
       "      <td>1712.53</td>\n",
       "      <td>1.0</td>\n",
       "    </tr>\n",
       "  </tbody>\n",
       "</table>\n",
       "</div>"
      ],
      "text/plain": [
       "            mean    sd  hpd_12.5%  hpd_87.5%  mcse_mean  mcse_sd  ess_mean  \\\n",
       "a[0]       -0.98  0.16      -1.17      -0.80       0.00      0.0   1939.90   \n",
       "a[1]       -0.93  0.15      -1.10      -0.77       0.00      0.0   2597.10   \n",
       "delta_a[0] -0.48  0.25      -0.76      -0.19       0.01      0.0   1366.83   \n",
       "delta_a[1]  0.03  0.20      -0.19       0.26       0.00      0.0   2549.02   \n",
       "delta_b[0]  0.06  0.07      -0.04       0.13       0.00      0.0   1260.24   \n",
       "delta_b[1]  0.15  0.09       0.04       0.24       0.00      0.0   2569.43   \n",
       "beta[0]     0.29  0.05       0.23       0.34       0.00      0.0   1674.22   \n",
       "beta[1]     0.36  0.06       0.29       0.44       0.00      0.0   2876.57   \n",
       "\n",
       "             ess_sd  ess_bulk  ess_tail  r_hat  \n",
       "a[0]        1864.16   1971.45   2187.88    1.0  \n",
       "a[1]        2536.88   2609.40   2333.86    1.0  \n",
       "delta_a[0]  1335.43   1394.06   1650.18    1.0  \n",
       "delta_a[1]  1626.86   2536.68   2114.44    1.0  \n",
       "delta_b[0]  1171.49   1282.97   1855.77    1.0  \n",
       "delta_b[1]  2024.18   2624.79   2014.16    1.0  \n",
       "beta[0]     1674.22   1677.74   1791.93    1.0  \n",
       "beta[1]     2876.57   2866.48   1712.53    1.0  "
      ]
     },
     "execution_count": 43,
     "metadata": {},
     "output_type": "execute_result"
    }
   ],
   "source": [
    "az.summary(trace_5,credible_interval=.75, round_to=2)"
   ]
  },
  {
   "cell_type": "markdown",
   "metadata": {
    "Collapsed": "false"
   },
   "source": [
    "### Model 6: Four condition model and individual differences"
   ]
  },
  {
   "cell_type": "code",
   "execution_count": 44,
   "metadata": {
    "Collapsed": "false"
   },
   "outputs": [
    {
     "name": "stderr",
     "output_type": "stream",
     "text": [
      "Auto-assigning NUTS sampler...\n",
      "Initializing NUTS using advi...\n",
      "Average Loss = 388.82:   6%|▌         | 12199/200000 [00:07<01:57, 1596.94it/s]\n",
      "Convergence achieved at 12200\n",
      "Interrupted at 12,199 [6%]: Average Loss = 550.19\n",
      "Multiprocess sampling (2 chains in 2 jobs)\n",
      "NUTS: [beta_ind, alpha_ind, beta, a]\n",
      "Sampling 2 chains, 0 divergences: 100%|██████████| 12000/12000 [00:24<00:00, 484.35draws/s]\n"
     ]
    }
   ],
   "source": [
    "chains = 2\n",
    "N = len(pd.unique(m_df.Inds))\n",
    "\n",
    "with pm.Model() as model_6:\n",
    "    \"\"\"\n",
    "    model without any individual distinctions, with hormones\n",
    "    \"\"\"\n",
    "    \n",
    "    BoundedNormal = pm.Bound(pm.Normal, lower=0.0)\n",
    "    \n",
    "    alpha = 0.75\n",
    "    c = 0.8\n",
    "    a = pm.Normal('a', 0, 1, shape = 4)\n",
    "    beta = BoundedNormal('beta', 0.5,0.5, shape = 4)\n",
    "    alpha_ind = pm.Normal('alpha_ind', 0, 0.5,shape = 40)\n",
    "    beta_ind = pm.Normal('beta_ind', 0, 0.2, shape = 40)\n",
    "    \n",
    "\n",
    "    Gap = gap(m_df.A, m_df.B, m_df.P, alpha, c) \n",
    "    Gap = tt.sgn(Gap)*tt.log(1+tt.abs_(Gap))\n",
    "    \n",
    "    theta = pm.math.invlogit(alpha_ind[m_df.Inds.values]+a[m_df.TypeCode.values]+(beta_ind[m_df.Inds.values]+beta[m_df.TypeCode.values])*Gap)\n",
    "\n",
    "    strategy = pm.Binomial(\"Strg\", 1, p=theta, observed=m_df.Strategy)\n",
    "    #strategy = pm.Bernoulli(\"Strg\", p=theta, observed=m_df.Strategy)\n",
    "\n",
    "    trace_6 = pm.sample(5000, tune=1000, target_accept=0.95, chains=chains, init = 'advi')[1000:]"
   ]
  },
  {
   "cell_type": "code",
   "execution_count": 45,
   "metadata": {
    "Collapsed": "false"
   },
   "outputs": [
    {
     "name": "stderr",
     "output_type": "stream",
     "text": [
      "/Users/votinov/anaconda3/lib/python3.7/site-packages/arviz/stats/stats.py:1196: UserWarning: For one or more samples the posterior variance of the log predictive densities exceeds 0.4. This could be indication of WAIC starting to fail. \n",
      "See http://arxiv.org/abs/1507.04544 for details\n",
      "  \"For one or more samples the posterior variance of the log predictive \"\n"
     ]
    },
    {
     "data": {
      "text/plain": [
       "Computed from 8000 by 800 log-likelihood matrix\n",
       "\n",
       "        Estimate       SE\n",
       "IC_waic   705.38    29.19\n",
       "p_waic     37.31        -\n",
       "\n",
       "There has been a warning during the calculation. Please check the results."
      ]
     },
     "execution_count": 45,
     "metadata": {},
     "output_type": "execute_result"
    }
   ],
   "source": [
    "az.waic(trace_6)"
   ]
  },
  {
   "cell_type": "code",
   "execution_count": 46,
   "metadata": {
    "Collapsed": "false"
   },
   "outputs": [
    {
     "data": {
      "text/html": [
       "<div>\n",
       "<style scoped>\n",
       "    .dataframe tbody tr th:only-of-type {\n",
       "        vertical-align: middle;\n",
       "    }\n",
       "\n",
       "    .dataframe tbody tr th {\n",
       "        vertical-align: top;\n",
       "    }\n",
       "\n",
       "    .dataframe thead th {\n",
       "        text-align: right;\n",
       "    }\n",
       "</style>\n",
       "<table border=\"1\" class=\"dataframe\">\n",
       "  <thead>\n",
       "    <tr style=\"text-align: right;\">\n",
       "      <th></th>\n",
       "      <th>mean</th>\n",
       "      <th>sd</th>\n",
       "      <th>hpd_12.5%</th>\n",
       "      <th>hpd_87.5%</th>\n",
       "      <th>mcse_mean</th>\n",
       "      <th>mcse_sd</th>\n",
       "      <th>ess_mean</th>\n",
       "      <th>ess_sd</th>\n",
       "      <th>ess_bulk</th>\n",
       "      <th>ess_tail</th>\n",
       "      <th>r_hat</th>\n",
       "    </tr>\n",
       "  </thead>\n",
       "  <tbody>\n",
       "    <tr>\n",
       "      <th>a[0]</th>\n",
       "      <td>-1.12</td>\n",
       "      <td>0.20</td>\n",
       "      <td>-1.34</td>\n",
       "      <td>-0.88</td>\n",
       "      <td>0.0</td>\n",
       "      <td>0.0</td>\n",
       "      <td>10509.90</td>\n",
       "      <td>9946.15</td>\n",
       "      <td>10536.47</td>\n",
       "      <td>5901.56</td>\n",
       "      <td>1.0</td>\n",
       "    </tr>\n",
       "    <tr>\n",
       "      <th>a[1]</th>\n",
       "      <td>-0.82</td>\n",
       "      <td>0.21</td>\n",
       "      <td>-1.05</td>\n",
       "      <td>-0.57</td>\n",
       "      <td>0.0</td>\n",
       "      <td>0.0</td>\n",
       "      <td>9324.57</td>\n",
       "      <td>8824.42</td>\n",
       "      <td>9368.78</td>\n",
       "      <td>6071.09</td>\n",
       "      <td>1.0</td>\n",
       "    </tr>\n",
       "    <tr>\n",
       "      <th>a[2]</th>\n",
       "      <td>-1.18</td>\n",
       "      <td>0.23</td>\n",
       "      <td>-1.43</td>\n",
       "      <td>-0.90</td>\n",
       "      <td>0.0</td>\n",
       "      <td>0.0</td>\n",
       "      <td>7411.04</td>\n",
       "      <td>7153.82</td>\n",
       "      <td>7446.54</td>\n",
       "      <td>6122.41</td>\n",
       "      <td>1.0</td>\n",
       "    </tr>\n",
       "    <tr>\n",
       "      <th>a[3]</th>\n",
       "      <td>-1.37</td>\n",
       "      <td>0.23</td>\n",
       "      <td>-1.62</td>\n",
       "      <td>-1.10</td>\n",
       "      <td>0.0</td>\n",
       "      <td>0.0</td>\n",
       "      <td>6346.82</td>\n",
       "      <td>6220.94</td>\n",
       "      <td>6388.48</td>\n",
       "      <td>5639.99</td>\n",
       "      <td>1.0</td>\n",
       "    </tr>\n",
       "    <tr>\n",
       "      <th>beta[0]</th>\n",
       "      <td>0.37</td>\n",
       "      <td>0.08</td>\n",
       "      <td>0.27</td>\n",
       "      <td>0.46</td>\n",
       "      <td>0.0</td>\n",
       "      <td>0.0</td>\n",
       "      <td>6967.44</td>\n",
       "      <td>6967.44</td>\n",
       "      <td>6829.10</td>\n",
       "      <td>4635.01</td>\n",
       "      <td>1.0</td>\n",
       "    </tr>\n",
       "    <tr>\n",
       "      <th>beta[1]</th>\n",
       "      <td>0.58</td>\n",
       "      <td>0.09</td>\n",
       "      <td>0.48</td>\n",
       "      <td>0.67</td>\n",
       "      <td>0.0</td>\n",
       "      <td>0.0</td>\n",
       "      <td>8838.18</td>\n",
       "      <td>8838.18</td>\n",
       "      <td>8687.10</td>\n",
       "      <td>5926.96</td>\n",
       "      <td>1.0</td>\n",
       "    </tr>\n",
       "    <tr>\n",
       "      <th>beta[2]</th>\n",
       "      <td>0.37</td>\n",
       "      <td>0.07</td>\n",
       "      <td>0.30</td>\n",
       "      <td>0.45</td>\n",
       "      <td>0.0</td>\n",
       "      <td>0.0</td>\n",
       "      <td>5479.04</td>\n",
       "      <td>5479.04</td>\n",
       "      <td>5421.62</td>\n",
       "      <td>5307.40</td>\n",
       "      <td>1.0</td>\n",
       "    </tr>\n",
       "    <tr>\n",
       "      <th>beta[3]</th>\n",
       "      <td>0.34</td>\n",
       "      <td>0.07</td>\n",
       "      <td>0.26</td>\n",
       "      <td>0.42</td>\n",
       "      <td>0.0</td>\n",
       "      <td>0.0</td>\n",
       "      <td>4871.19</td>\n",
       "      <td>4871.19</td>\n",
       "      <td>4811.36</td>\n",
       "      <td>4183.33</td>\n",
       "      <td>1.0</td>\n",
       "    </tr>\n",
       "  </tbody>\n",
       "</table>\n",
       "</div>"
      ],
      "text/plain": [
       "         mean    sd  hpd_12.5%  hpd_87.5%  mcse_mean  mcse_sd  ess_mean  \\\n",
       "a[0]    -1.12  0.20      -1.34      -0.88        0.0      0.0  10509.90   \n",
       "a[1]    -0.82  0.21      -1.05      -0.57        0.0      0.0   9324.57   \n",
       "a[2]    -1.18  0.23      -1.43      -0.90        0.0      0.0   7411.04   \n",
       "a[3]    -1.37  0.23      -1.62      -1.10        0.0      0.0   6346.82   \n",
       "beta[0]  0.37  0.08       0.27       0.46        0.0      0.0   6967.44   \n",
       "beta[1]  0.58  0.09       0.48       0.67        0.0      0.0   8838.18   \n",
       "beta[2]  0.37  0.07       0.30       0.45        0.0      0.0   5479.04   \n",
       "beta[3]  0.34  0.07       0.26       0.42        0.0      0.0   4871.19   \n",
       "\n",
       "          ess_sd  ess_bulk  ess_tail  r_hat  \n",
       "a[0]     9946.15  10536.47   5901.56    1.0  \n",
       "a[1]     8824.42   9368.78   6071.09    1.0  \n",
       "a[2]     7153.82   7446.54   6122.41    1.0  \n",
       "a[3]     6220.94   6388.48   5639.99    1.0  \n",
       "beta[0]  6967.44   6829.10   4635.01    1.0  \n",
       "beta[1]  8838.18   8687.10   5926.96    1.0  \n",
       "beta[2]  5479.04   5421.62   5307.40    1.0  \n",
       "beta[3]  4871.19   4811.36   4183.33    1.0  "
      ]
     },
     "execution_count": 46,
     "metadata": {},
     "output_type": "execute_result"
    }
   ],
   "source": [
    "az.summary(trace_6, var_names = ['a','beta'],credible_interval=.75, round_to=2)"
   ]
  },
  {
   "cell_type": "code",
   "execution_count": 47,
   "metadata": {
    "Collapsed": "false"
   },
   "outputs": [
    {
     "name": "stderr",
     "output_type": "stream",
     "text": [
      "/Users/votinov/anaconda3/lib/python3.7/site-packages/pymc3/sampling.py:1247: UserWarning: samples parameter is smaller than nchains times ndraws, some draws and/or chains may not be represented in the returned posterior predictive sample\n",
      "  \"samples parameter is smaller than nchains times ndraws, some draws \"\n",
      "100%|██████████| 500/500 [00:01<00:00, 330.36it/s]\n"
     ]
    },
    {
     "name": "stdout",
     "output_type": "stream",
     "text": [
      "R^2 value for real and predicted data: 0.81\n",
      "ROC_AUC score for real and predicted data: 0.89\n"
     ]
    },
    {
     "data": {
      "image/png": "[encoded data removed]",
      "text/plain": [
       "<Figure size 432x216 with 1 Axes>"
      ]
     },
     "metadata": {},
     "output_type": "display_data"
    }
   ],
   "source": [
    "est = est_model_group(trace_6, model_6, m_df);"
   ]
  },
  {
   "cell_type": "markdown",
   "metadata": {
    "Collapsed": "false"
   },
   "source": [
    "### Model 7: Individual differences and additional parameters for testosterone"
   ]
  },
  {
   "cell_type": "code",
   "execution_count": 48,
   "metadata": {
    "Collapsed": "false"
   },
   "outputs": [
    {
     "name": "stderr",
     "output_type": "stream",
     "text": [
      "Auto-assigning NUTS sampler...\n",
      "Initializing NUTS using advi...\n",
      "Average Loss = 386.71:   7%|▋         | 14299/200000 [00:10<02:10, 1420.05it/s]\n",
      "Convergence achieved at 14300\n",
      "Interrupted at 14,299 [7%]: Average Loss = 555.99\n",
      "Multiprocess sampling (2 chains in 2 jobs)\n",
      "NUTS: [beta_ind, alpha_ind, delta_b, delta_a, beta, a]\n",
      "Sampling 2 chains, 0 divergences: 100%|██████████| 5000/5000 [00:13<00:00, 382.33draws/s]\n"
     ]
    }
   ],
   "source": [
    "chains = 2\n",
    "N = len(pd.unique(m_df.Inds))\n",
    "\n",
    "with pm.Model() as model_7:\n",
    "    \"\"\"\n",
    "    model without any individual distinctions, with hormones\n",
    "    \"\"\"\n",
    "    \n",
    "    BoundedNormal = pm.Bound(pm.Normal, lower=0.0)\n",
    "    \n",
    "    alpha = 0.75\n",
    "    c = 0.8\n",
    "    a = pm.Normal('a', 0, 1, shape = 2)\n",
    "    beta = BoundedNormal('beta', 0.5,0.5, shape = 2)\n",
    "    delta_a = pm.Normal('delta_a', 0, 0.5, shape = 2)\n",
    "    delta_b = pm.Normal('delta_b', 0, 0.5, shape = 2)\n",
    "\n",
    "    alpha_ind = pm.Normal('alpha_ind', 0, 0.5,shape = 40)\n",
    "    beta_ind = pm.Normal('beta_ind', 0, 0.2, shape = 40)\n",
    "    \n",
    "\n",
    "    Gap = gap(m_df.A, m_df.B, m_df.P, alpha, c) \n",
    "    Gap = tt.sgn(Gap)*tt.log(1+tt.abs_(Gap))\n",
    "    \n",
    "    theta_lin = alpha_ind[m_df.Inds.values]+a[m_df.Win.values]+delta_a[m_df.Win.values]*m_df.TPl_change.values+\\\n",
    "                (beta_ind[m_df.Inds.values]+ beta[m_df.Win.values]+delta_b[m_df.Win.values]*m_df.TPl_change.values)*Gap\n",
    "\n",
    "    theta = pm.math.invlogit(theta_lin)\n",
    "\n",
    "\n",
    "    strategy = pm.Binomial(\"Strg\", 1, p=theta, observed=m_df.Strategy)\n",
    "    #strategy = pm.Bernoulli(\"Strg\", p=theta, observed=m_df.Strategy)\n",
    "\n",
    "    trace_7 = pm.sample(2000, tune=500, target_accept=0.95, chains=chains, init = 'advi')[500:]"
   ]
  },
  {
   "cell_type": "code",
   "execution_count": 49,
   "metadata": {
    "Collapsed": "false"
   },
   "outputs": [
    {
     "name": "stderr",
     "output_type": "stream",
     "text": [
      "/Users/votinov/anaconda3/lib/python3.7/site-packages/arviz/stats/stats.py:1196: UserWarning: For one or more samples the posterior variance of the log predictive densities exceeds 0.4. This could be indication of WAIC starting to fail. \n",
      "See http://arxiv.org/abs/1507.04544 for details\n",
      "  \"For one or more samples the posterior variance of the log predictive \"\n"
     ]
    },
    {
     "data": {
      "text/plain": [
       "Computed from 3000 by 800 log-likelihood matrix\n",
       "\n",
       "        Estimate       SE\n",
       "IC_waic   702.74    29.30\n",
       "p_waic     36.45        -\n",
       "\n",
       "There has been a warning during the calculation. Please check the results."
      ]
     },
     "execution_count": 49,
     "metadata": {},
     "output_type": "execute_result"
    }
   ],
   "source": [
    "az.waic(trace_7)"
   ]
  },
  {
   "cell_type": "code",
   "execution_count": 50,
   "metadata": {
    "Collapsed": "false"
   },
   "outputs": [
    {
     "name": "stderr",
     "output_type": "stream",
     "text": [
      "/Users/votinov/anaconda3/lib/python3.7/site-packages/pymc3/sampling.py:1247: UserWarning: samples parameter is smaller than nchains times ndraws, some draws and/or chains may not be represented in the returned posterior predictive sample\n",
      "  \"samples parameter is smaller than nchains times ndraws, some draws \"\n",
      "100%|██████████| 500/500 [00:01<00:00, 344.63it/s]\n"
     ]
    },
    {
     "name": "stdout",
     "output_type": "stream",
     "text": [
      "R^2 value for real and predicted data: 0.80\n",
      "ROC_AUC score for real and predicted data: 0.89\n"
     ]
    },
    {
     "data": {
      "image/png": "[encoded data removed]",
      "text/plain": [
       "<Figure size 432x216 with 1 Axes>"
      ]
     },
     "metadata": {},
     "output_type": "display_data"
    }
   ],
   "source": [
    "est = est_model_group(trace_7, model_7, m_df);"
   ]
  },
  {
   "cell_type": "code",
   "execution_count": 51,
   "metadata": {
    "Collapsed": "false"
   },
   "outputs": [
    {
     "data": {
      "text/html": [
       "<div>\n",
       "<style scoped>\n",
       "    .dataframe tbody tr th:only-of-type {\n",
       "        vertical-align: middle;\n",
       "    }\n",
       "\n",
       "    .dataframe tbody tr th {\n",
       "        vertical-align: top;\n",
       "    }\n",
       "\n",
       "    .dataframe thead th {\n",
       "        text-align: right;\n",
       "    }\n",
       "</style>\n",
       "<table border=\"1\" class=\"dataframe\">\n",
       "  <thead>\n",
       "    <tr style=\"text-align: right;\">\n",
       "      <th></th>\n",
       "      <th>mean</th>\n",
       "      <th>sd</th>\n",
       "      <th>hpd_12.5%</th>\n",
       "      <th>hpd_87.5%</th>\n",
       "      <th>mcse_mean</th>\n",
       "      <th>mcse_sd</th>\n",
       "      <th>ess_mean</th>\n",
       "      <th>ess_sd</th>\n",
       "      <th>ess_bulk</th>\n",
       "      <th>ess_tail</th>\n",
       "      <th>r_hat</th>\n",
       "    </tr>\n",
       "  </thead>\n",
       "  <tbody>\n",
       "    <tr>\n",
       "      <th>a[0]</th>\n",
       "      <td>-1.13</td>\n",
       "      <td>0.19</td>\n",
       "      <td>-1.36</td>\n",
       "      <td>-0.90</td>\n",
       "      <td>0.00</td>\n",
       "      <td>0.0</td>\n",
       "      <td>1666.64</td>\n",
       "      <td>1666.64</td>\n",
       "      <td>1663.34</td>\n",
       "      <td>2149.61</td>\n",
       "      <td>1.00</td>\n",
       "    </tr>\n",
       "    <tr>\n",
       "      <th>a[1]</th>\n",
       "      <td>-1.04</td>\n",
       "      <td>0.18</td>\n",
       "      <td>-1.24</td>\n",
       "      <td>-0.83</td>\n",
       "      <td>0.00</td>\n",
       "      <td>0.0</td>\n",
       "      <td>1860.66</td>\n",
       "      <td>1860.66</td>\n",
       "      <td>1851.12</td>\n",
       "      <td>2264.17</td>\n",
       "      <td>1.00</td>\n",
       "    </tr>\n",
       "    <tr>\n",
       "      <th>beta[0]</th>\n",
       "      <td>0.35</td>\n",
       "      <td>0.06</td>\n",
       "      <td>0.27</td>\n",
       "      <td>0.41</td>\n",
       "      <td>0.00</td>\n",
       "      <td>0.0</td>\n",
       "      <td>958.52</td>\n",
       "      <td>958.52</td>\n",
       "      <td>968.18</td>\n",
       "      <td>966.14</td>\n",
       "      <td>1.01</td>\n",
       "    </tr>\n",
       "    <tr>\n",
       "      <th>beta[1]</th>\n",
       "      <td>0.41</td>\n",
       "      <td>0.07</td>\n",
       "      <td>0.33</td>\n",
       "      <td>0.50</td>\n",
       "      <td>0.00</td>\n",
       "      <td>0.0</td>\n",
       "      <td>1855.40</td>\n",
       "      <td>1855.40</td>\n",
       "      <td>1850.41</td>\n",
       "      <td>1399.98</td>\n",
       "      <td>1.00</td>\n",
       "    </tr>\n",
       "    <tr>\n",
       "      <th>delta_a[0]</th>\n",
       "      <td>-0.50</td>\n",
       "      <td>0.27</td>\n",
       "      <td>-0.78</td>\n",
       "      <td>-0.16</td>\n",
       "      <td>0.01</td>\n",
       "      <td>0.0</td>\n",
       "      <td>1563.36</td>\n",
       "      <td>1563.36</td>\n",
       "      <td>1575.38</td>\n",
       "      <td>1865.03</td>\n",
       "      <td>1.00</td>\n",
       "    </tr>\n",
       "    <tr>\n",
       "      <th>delta_a[1]</th>\n",
       "      <td>0.09</td>\n",
       "      <td>0.21</td>\n",
       "      <td>-0.16</td>\n",
       "      <td>0.31</td>\n",
       "      <td>0.00</td>\n",
       "      <td>0.0</td>\n",
       "      <td>2945.46</td>\n",
       "      <td>2040.38</td>\n",
       "      <td>2939.02</td>\n",
       "      <td>2609.27</td>\n",
       "      <td>1.00</td>\n",
       "    </tr>\n",
       "    <tr>\n",
       "      <th>delta_b[0]</th>\n",
       "      <td>0.05</td>\n",
       "      <td>0.08</td>\n",
       "      <td>-0.05</td>\n",
       "      <td>0.13</td>\n",
       "      <td>0.00</td>\n",
       "      <td>0.0</td>\n",
       "      <td>1893.56</td>\n",
       "      <td>1678.39</td>\n",
       "      <td>1928.46</td>\n",
       "      <td>2188.56</td>\n",
       "      <td>1.00</td>\n",
       "    </tr>\n",
       "    <tr>\n",
       "      <th>delta_b[1]</th>\n",
       "      <td>0.16</td>\n",
       "      <td>0.10</td>\n",
       "      <td>0.04</td>\n",
       "      <td>0.26</td>\n",
       "      <td>0.00</td>\n",
       "      <td>0.0</td>\n",
       "      <td>3055.41</td>\n",
       "      <td>2351.03</td>\n",
       "      <td>3176.82</td>\n",
       "      <td>2371.87</td>\n",
       "      <td>1.00</td>\n",
       "    </tr>\n",
       "  </tbody>\n",
       "</table>\n",
       "</div>"
      ],
      "text/plain": [
       "            mean    sd  hpd_12.5%  hpd_87.5%  mcse_mean  mcse_sd  ess_mean  \\\n",
       "a[0]       -1.13  0.19      -1.36      -0.90       0.00      0.0   1666.64   \n",
       "a[1]       -1.04  0.18      -1.24      -0.83       0.00      0.0   1860.66   \n",
       "beta[0]     0.35  0.06       0.27       0.41       0.00      0.0    958.52   \n",
       "beta[1]     0.41  0.07       0.33       0.50       0.00      0.0   1855.40   \n",
       "delta_a[0] -0.50  0.27      -0.78      -0.16       0.01      0.0   1563.36   \n",
       "delta_a[1]  0.09  0.21      -0.16       0.31       0.00      0.0   2945.46   \n",
       "delta_b[0]  0.05  0.08      -0.05       0.13       0.00      0.0   1893.56   \n",
       "delta_b[1]  0.16  0.10       0.04       0.26       0.00      0.0   3055.41   \n",
       "\n",
       "             ess_sd  ess_bulk  ess_tail  r_hat  \n",
       "a[0]        1666.64   1663.34   2149.61   1.00  \n",
       "a[1]        1860.66   1851.12   2264.17   1.00  \n",
       "beta[0]      958.52    968.18    966.14   1.01  \n",
       "beta[1]     1855.40   1850.41   1399.98   1.00  \n",
       "delta_a[0]  1563.36   1575.38   1865.03   1.00  \n",
       "delta_a[1]  2040.38   2939.02   2609.27   1.00  \n",
       "delta_b[0]  1678.39   1928.46   2188.56   1.00  \n",
       "delta_b[1]  2351.03   3176.82   2371.87   1.00  "
      ]
     },
     "execution_count": 51,
     "metadata": {},
     "output_type": "execute_result"
    }
   ],
   "source": [
    "az.summary(trace_7, var_names = ['a','beta', 'delta_a','delta_b'],credible_interval=.75, round_to=2)"
   ]
  },
  {
   "cell_type": "markdown",
   "metadata": {
    "Collapsed": "false"
   },
   "source": [
    "## Testosterone-related parameters "
   ]
  },
  {
   "cell_type": "code",
   "execution_count": 52,
   "metadata": {
    "Collapsed": "false"
   },
   "outputs": [],
   "source": [
    "def plot_deltas(trace):\n",
    "\n",
    "    fig, ax = plt.subplots(1, 2, figsize=(10, 3), constrained_layout=True)\n",
    "    for i in [0,1]:\n",
    "        az.plot_posterior(trace['delta_a'][:, i], ref_val=0, ax = ax[i])\n",
    "    fig.suptitle(f\" Testosterone-related sure-option shift for Negative framing (left) and Positive (right)\", fontsize=16);\n",
    "    fig, ax = plt.subplots(1, 2, figsize=(10, 3), constrained_layout=True)\n",
    "    for i in [0,1]:\n",
    "        az.plot_posterior(trace['delta_b'][:, i], ref_val=0, ax = ax[i])\n",
    "    fig.suptitle(f\" Testosterone-related sensitivity to gap for Negative framing (left) and Positive (right)\", fontsize=16);\n",
    "    \n",
    "def plot_4cond(trace):   \n",
    "    \n",
    "    az.plot_forest(trace, var_names = ['a'], kind = 'ridgeplot', figsize=(4,5), colors='purple', ridgeplot_overlap=3);\n",
    "    az.plot_forest(trace, var_names = ['beta'], kind = 'ridgeplot', figsize=(4,5), colors='#eeefff', ridgeplot_overlap=3);"
   ]
  },
  {
   "cell_type": "code",
   "execution_count": 53,
   "metadata": {
    "Collapsed": "false"
   },
   "outputs": [
    {
     "data": {
      "image/png": "[encoded data removed]",
      "text/plain": [
       "<Figure size 720x216 with 2 Axes>"
      ]
     },
     "metadata": {},
     "output_type": "display_data"
    },
    {
     "data": {
      "image/png": "[encoded data removed]",
      "text/plain": [
       "<Figure size 720x216 with 2 Axes>"
      ]
     },
     "metadata": {},
     "output_type": "display_data"
    }
   ],
   "source": [
    "plot_deltas(trace_7)"
   ]
  },
  {
   "cell_type": "code",
   "execution_count": 54,
   "metadata": {
    "Collapsed": "false"
   },
   "outputs": [
    {
     "data": {
      "image/png": "[encoded data removed]",
      "text/plain": [
       "<Figure size 288x360 with 1 Axes>"
      ]
     },
     "metadata": {},
     "output_type": "display_data"
    },
    {
     "data": {
      "image/png": "[encoded data removed]",
      "text/plain": [
       "<Figure size 288x360 with 1 Axes>"
      ]
     },
     "metadata": {},
     "output_type": "display_data"
    }
   ],
   "source": [
    "plot_4cond(trace_6)"
   ]
  },
  {
   "cell_type": "markdown",
   "metadata": {
    "Collapsed": "false"
   },
   "source": [
    "## Effect analysis"
   ]
  },
  {
   "cell_type": "markdown",
   "metadata": {
    "Collapsed": "false"
   },
   "source": [
    "### Risk sensitivity to the percentage change in testosteron level with the fixed gaps"
   ]
  },
  {
   "cell_type": "code",
   "execution_count": 55,
   "metadata": {
    "Collapsed": "false"
   },
   "outputs": [],
   "source": [
    "def risk_sens_testn(trace, tchange = np.linspace(0,3,30), cr_int = 0.5, gaps = [1,3,5]):\n",
    "    plt.figure(figsize = (15,6))\n",
    "\n",
    "    #ind = 0 (Negative),1 (Positive)\n",
    "    a_mu = trace['a'].mean(axis=0)\n",
    "    a_bounds = az.hpd(trace['a'], credible_interval=cr_int)\n",
    "    beta_mu = trace['beta'].mean(axis=0)\n",
    "    beta_bounds = az.hpd(trace['beta'],credible_interval=cr_int)\n",
    "    delta_a_mu = trace['delta_a'].mean(axis=0)\n",
    "    delta_a_bounds = az.hpd(trace['delta_a'],credible_interval=cr_int)\n",
    "    delta_b_mu = trace['delta_b'].mean(axis=0)\n",
    "    delta_b_bounds = az.hpd(trace['delta_b'],credible_interval=cr_int)\n",
    "    \n",
    "    def theta_errs(ind, gap):\n",
    "        theta = invlogit(a_mu[ind]+delta_a_mu[ind]*tchange+(beta_mu[ind]+delta_b_mu[ind]*tchange)*gap)\n",
    "        theta_lb = invlogit(a_bounds[ind,0]+delta_a_bounds[ind,0]*tchange+(delta_b_bounds[ind,0]*tchange+beta_bounds[ind,0])*gap)\n",
    "        theta_ub = invlogit(a_bounds[ind,1]+delta_a_bounds[ind,1]*tchange+(delta_b_bounds[ind,1]*tchange+beta_bounds[ind,1])*gap)\n",
    "        return theta, theta_lb, theta_ub\n",
    "\n",
    "    plt.suptitle(f'Willingness to risk depending on the testosteron level and potenial gain', fontsize = 20)\n",
    "\n",
    "    colors=cm.plasma(np.linspace(0,0.6,len(gaps)))\n",
    "\n",
    "    plt.subplot(1,2,1); \n",
    "    for gap, c in zip(gaps,colors):\n",
    "        theta_W, theta_W_lb, theta_W_ub = theta_errs(1,gap)\n",
    "        plt.plot(tchange, theta_W, color=c, label = f'Gain: {np.expm1(gap):.0f}'); plt.ylim(0,1); plt.legend()\n",
    "        plt.vlines(tchange, theta_W_lb,theta_W_ub, colors = c, alpha=0.4)\n",
    "    \n",
    "    plt.ylabel('Probability to choose Risk option')\n",
    "    plt.xlabel('Change iin testosterone level compared to placebo states')\n",
    "    plt.title('Positive framing', size = 16)\n",
    "    plt.legend()\n",
    "    \n",
    "    \n",
    "    plt.subplot(1,2,2); \n",
    "    for gap, c in zip(gaps,colors):\n",
    "        theta_W, theta_W_lb, theta_W_ub = theta_errs(0,gap)\n",
    "        plt.plot(tchange, theta_W, label = f'Gain: {np.expm1(gap):.0f}', color=c); plt.ylim(0,1); plt.legend()\n",
    "        plt.vlines(tchange, theta_W_lb,theta_W_ub, colors=c,alpha=0.4)\n",
    "    \n",
    "    plt.ylabel('Probability to choose Risk option')\n",
    "    plt.xlabel('Change iin testosterone level compared to placebo states')\n",
    "    plt.title('Negative framing', size = 16)\n",
    "    plt.legend()\n",
    "    return theta_W, theta_W_lb, theta_W_ub"
   ]
  },
  {
   "cell_type": "code",
   "execution_count": 56,
   "metadata": {
    "Collapsed": "false"
   },
   "outputs": [
    {
     "data": {
      "image/png": "[encoded data removed]",
      "text/plain": [
       "<Figure size 1080x432 with 2 Axes>"
      ]
     },
     "metadata": {},
     "output_type": "display_data"
    }
   ],
   "source": [
    "theta_W, theta_W_lb, theta_W_ub = risk_sens_testn(trace_7)"
   ]
  },
  {
   "cell_type": "markdown",
   "metadata": {
    "Collapsed": "false"
   },
   "source": [
    "### Willingness to risk depending on the gap with several level of testosteron changes"
   ]
  },
  {
   "cell_type": "code",
   "execution_count": 57,
   "metadata": {
    "Collapsed": "false"
   },
   "outputs": [],
   "source": [
    "def gap_sens_testn(trace, gaps = np.linspace(0,5,50), cr_int = 0.5, testn = [0,0.6,1.5]):\n",
    "    plt.figure(figsize = (15,6))\n",
    "\n",
    "    a_mu = trace['a'].mean(axis=0)\n",
    "    a_bounds = az.hpd(trace['a'], credible_interval=cr_int)\n",
    "    beta_mu = trace['beta'].mean(axis=0)\n",
    "    beta_bounds = az.hpd(trace['beta'],credible_interval=cr_int)\n",
    "    delta_a_mu = trace['delta_a'].mean(axis=0)\n",
    "    delta_a_bounds = az.hpd(trace['delta_a'],credible_interval=cr_int)\n",
    "    delta_b_mu = trace['delta_b'].mean(axis=0)\n",
    "    delta_b_bounds = az.hpd(trace['delta_b'],credible_interval=cr_int)\n",
    "    \n",
    "    def theta_errs(ind, test):\n",
    "        theta = invlogit(a_mu[ind]+delta_a_mu[ind]*test+(beta_mu[ind]+delta_b_mu[ind]*test)*gaps)\n",
    "        theta_lb = invlogit(a_bounds[ind,0]+delta_a_bounds[ind,0]*test+(delta_b_bounds[ind,0]*test+beta_bounds[ind,0])*gaps)\n",
    "        theta_ub = invlogit(a_bounds[ind,1]+delta_a_bounds[ind,1]*test+(delta_b_bounds[ind,1]*test+beta_bounds[ind,1])*gaps)\n",
    "        return theta, theta_lb, theta_ub\n",
    "\n",
    "    plt.suptitle(f'Willingness to risk depending on the testosteron level and potenial gain', fontsize = 20)\n",
    "\n",
    "    colors=cm.plasma(np.linspace(0,0.6,len(testn)))\n",
    "\n",
    "    plt.subplot(1,2,1); \n",
    "    for test, c in zip(testn,colors):\n",
    "        theta_W, theta_W_lb, theta_W_ub = theta_errs(1,test)\n",
    "        plt.plot(np.expm1(gaps), theta_W, color=c, label = f'ChangeTest: {100*test:.0f}'); plt.ylim(0,1); plt.legend()\n",
    "        plt.vlines(np.expm1(gaps), theta_W_lb,theta_W_ub, colors = c, alpha=0.4)\n",
    "    \n",
    "    plt.ylabel('Probability to choose Risk option')\n",
    "    plt.xlabel('Change iin testosterone level compared to placebo states')\n",
    "    plt.title('Positive framing', size = 16)\n",
    "    plt.legend()\n",
    "    \n",
    "    \n",
    "    plt.subplot(1,2,2); \n",
    "    for test, c in zip(testn,colors):\n",
    "        theta_W, theta_W_lb, theta_W_ub = theta_errs(0,test)\n",
    "        plt.plot(np.expm1(gaps), theta_W, label = f'ChangeTest: {100*test:.0f}', color=c); plt.ylim(0,1); plt.legend()\n",
    "        plt.vlines(np.expm1(gaps), theta_W_lb,theta_W_ub, colors=c,alpha=0.4)\n",
    "    \n",
    "    plt.ylabel('Probability to choose Risk option')\n",
    "    plt.xlabel('Change iin testosterone level compared to placebo states')\n",
    "    plt.title('Negative framing', size = 16)\n",
    "    plt.legend()\n"
   ]
  },
  {
   "cell_type": "code",
   "execution_count": 58,
   "metadata": {
    "Collapsed": "false"
   },
   "outputs": [
    {
     "data": {
      "image/png": "[encoded data removed]",
      "text/plain": [
       "<Figure size 1080x432 with 2 Axes>"
      ]
     },
     "metadata": {},
     "output_type": "display_data"
    }
   ],
   "source": [
    "gap_sens_testn(trace_7)"
   ]
  },
  {
   "cell_type": "markdown",
   "metadata": {
    "Collapsed": "false"
   },
   "source": [
    "### Risk sensitivity to gain (binary outcome: Place, Testosteronr)"
   ]
  },
  {
   "cell_type": "code",
   "execution_count": 59,
   "metadata": {
    "Collapsed": "false"
   },
   "outputs": [],
   "source": [
    "def risk_sens_gain(trace, gaps, cr_int = 0.7):\n",
    "    plt.figure(figsize = (15,6))\n",
    "    \n",
    "    alpha_bounds = az.hpd(trace['a'], credible_interval=cr_int)\n",
    "    alpha_mu = trace['a'].mean(axis=0)\n",
    "    beta_bounds = az.hpd(trace['beta'],credible_interval=cr_int)\n",
    "    beta_mu = trace['beta'].mean(axis=0)\n",
    "    \n",
    "    def theta_errs(ind):\n",
    "        theta = invlogit(alpha_mu[ind]+beta_mu[ind]*gaps)\n",
    "        theta_lb = invlogit(alpha_bounds[ind,0]+beta_bounds[ind,0]*gaps)\n",
    "        theta_ub = invlogit(alpha_bounds[ind,1]+beta_bounds[ind,1]*gaps)\n",
    "        return theta, theta_lb, theta_ub\n",
    "    \n",
    "    plt.suptitle('Willingness to risk depending on the potential gain', fontsize = 20)\n",
    "\n",
    "    theta_W_PL, theta_W_Pl_lb, theta_W_Pl_ub = theta_errs(0)\n",
    "    plt.subplot(1,2,1); plt.plot(np.expm1(gaps), theta_W_PL, label = 'Placebo'); plt.ylim(0,1); plt.legend()\n",
    "    plt.vlines(np.expm1(gaps), theta_W_Pl_lb,theta_W_Pl_ub, colors='black', alpha=0.5)\n",
    "\n",
    "    theta_W_T, theta_W_T_lb, theta_W_T_ub = theta_errs(1)\n",
    "    plt.subplot(1,2,1);plt.plot(np.expm1(gaps), theta_W_T, label = 'Testosterone'); plt.ylim(0,1); \n",
    "    plt.vlines(np.expm1(gaps), theta_W_T_lb,theta_W_T_ub, colors='red' , linestyles = 'dotted', alpha=0.9)\n",
    "    plt.ylabel('Probability to choose Risk option')\n",
    "    plt.xlabel('Subjective money')\n",
    "    plt.title('Winning framing', size = 16)\n",
    "    plt.legend()\n",
    "\n",
    "    \n",
    "    theta_W_PL, theta_W_Pl_lb, theta_W_Pl_ub = theta_errs(2)\n",
    "    plt.subplot(1,2,2); plt.plot(np.expm1(gaps), theta_W_PL, label = 'Placebo'); plt.ylim(0,1); \n",
    "    plt.vlines(np.expm1(gaps), theta_W_Pl_lb,theta_W_Pl_ub, colors='black', alpha=0.5)\n",
    "    \n",
    "\n",
    "    theta_W_T, theta_W_T_lb, theta_W_T_ub = theta_errs(3)\n",
    "    plt.subplot(1,2,2);plt.plot(np.expm1(gaps), theta_W_T, label = 'Testosterone'); plt.ylim(0,1); \n",
    "    plt.vlines(np.expm1(gaps), theta_W_T_lb,theta_W_T_ub, colors='red' , linestyles = 'dotted', alpha=0.9)\n",
    "    plt.ylabel('Probability to choose Risk option')\n",
    "    plt.xlabel('Subjective money')\n",
    "    plt.title('Loss framing', size = 16)\n",
    "\n",
    "    plt.legend()\n",
    "    "
   ]
  },
  {
   "cell_type": "code",
   "execution_count": 60,
   "metadata": {
    "Collapsed": "false"
   },
   "outputs": [
    {
     "name": "stderr",
     "output_type": "stream",
     "text": [
      "/Users/votinov/anaconda3/lib/python3.7/site-packages/ipykernel_launcher.py:22: MatplotlibDeprecationWarning: Adding an axes using the same arguments as a previous axes currently reuses the earlier instance.  In a future version, a new instance will always be created and returned.  Meanwhile, this warning can be suppressed, and the future behavior ensured, by passing a unique label to each axes instance.\n",
      "/Users/votinov/anaconda3/lib/python3.7/site-packages/ipykernel_launcher.py:36: MatplotlibDeprecationWarning: Adding an axes using the same arguments as a previous axes currently reuses the earlier instance.  In a future version, a new instance will always be created and returned.  Meanwhile, this warning can be suppressed, and the future behavior ensured, by passing a unique label to each axes instance.\n"
     ]
    },
    {
     "data": {
      "image/png": "[encoded data removed]",
      "text/plain": [
       "<Figure size 1080x432 with 2 Axes>"
      ]
     },
     "metadata": {},
     "output_type": "display_data"
    }
   ],
   "source": [
    "gaps = np.linspace(0,5,50)\n",
    "\n",
    "risk_sens_gain(trace_6, gaps, cr_int = 0.7)"
   ]
  },
  {
   "cell_type": "code",
   "execution_count": null,
   "metadata": {
    "Collapsed": "false"
   },
   "outputs": [],
   "source": []
  }
 ],
 "metadata": {
  "kernelspec": {
   "display_name": "Python 3",
   "language": "python",
   "name": "python3"
  },
  "language_info": {
   "codemirror_mode": {
    "name": "ipython",
    "version": 3
   },
   "file_extension": ".py",
   "mimetype": "text/x-python",
   "name": "python",
   "nbconvert_exporter": "python",
   "pygments_lexer": "ipython3",
   "version": "3.7.1"
  },
  "toc-showtags": false
 },
 "nbformat": 4,
 "nbformat_minor": 4
}
